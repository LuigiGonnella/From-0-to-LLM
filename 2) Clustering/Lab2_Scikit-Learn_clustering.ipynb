{
 "cells": [
  {
   "cell_type": "markdown",
   "metadata": {
    "collapsed": true,
    "pycharm": {
     "name": "#%% md\n"
    }
   },
   "source": [
    "# Lab 5: Clustering with Scikit-Learn\n",
    "\n",
    "The objective of this notebook is to learn about the **Scikit-Learn** library (<a href=\"https://scikit-learn.org/stable/\" >official documentation</a>) and **clustering**. You can find a good guide at this <a href=\"https://www.w3schools.com/python/python_ml_k-means.asp\" >link</a>.\n",
    "\n",
    "You can find an **overview of all the available clustering algorithms in Scikit-Learn** <a href=\"https://scikit-learn.org/stable/modules/clustering.html\" >here</a>."
   ]
  },
  {
   "cell_type": "markdown",
   "metadata": {},
   "source": [
    "## Tutorial\n",
    "### Tutorial Outline\n",
    "- [1. Import Libraries](#1-import-needed-libararies)\n",
    "- [2. Tutorial Clustering](#2-tutorial---clustering)\n",
    "\n",
    "    -[2.1 KMeans](#21-k-means)\n",
    "\n",
    "    -[2.2 Hierarchical](#22-Hierarchical)\n",
    "    \n",
    "    -[2.3 DBSCAN](#23-density-based-clustering-dbscan)\n",
    "\n"
   ]
  },
  {
   "cell_type": "markdown",
   "metadata": {},
   "source": [
    "### Objective: Learn how to use different clustering techniques\n",
    "\n",
    "Clustering is unsupervised learning. We want to assign data samples into different groups based on their similarity/proximity. As a result, we can derive, explain, and utilize the properties of such groups. We do not have nor use labels for clustering task, and we use unsupervised metrics to evaluate the performance. However, we can also use labeled data to better understand the obtained clusters with supervised metrics. \n",
    "\n",
    "1. **k-Means** is a hard clustering approach (each sample is associated with one and only one cluster), that partitions m observations to k clusters in which each observation belongs to the cluster with the nearest mean (cluster centroid). Useful links: <a href=\"https://en.wikipedia.org/wiki/K-means_clustering\">Wiki</a>, <a href=\"https://scikit-learn.org/stable/modules/generated/sklearn.cluster.KMeans.html#sklearn.cluster.KMeans\">K-means in sklearn</a>.\n",
    "2. **Hierarchical Clustering** builds a tree (dendrogram) representing how observations can be grouped into clusters at different levels. No need to pre-specify the number of clusters.\n",
    "Useful links: <a href=\"https://en.wikipedia.org/wiki/Hierarchical_clustering\">Wiki</a>, <a href=\"https://scikit-learn.org/stable/modules/generated/sklearn.cluster.AgglomerativeClustering.html\">Hierarchical Clustering in sklearn</a>.\n",
    "3. **Density-based spatial clustering of applications with noise (DBSCAN)** is a density-based hard clustering algorithm, that groups together samples that are connected together in an empirical graph, defining core points, border points, and outliers. Useful links: <a href=\"https://en.wikipedia.org/wiki/DBSCAN\">Wiki</a>, <a href=\"https://scikit-learn.org/stable/modules/generated/sklearn.cluster.DBSCAN.html#sklearn.cluster.DBSCAN\">DBSCAN in sklearn</a>."
   ]
  },
  {
   "cell_type": "markdown",
   "metadata": {},
   "source": [
    "### 1. Import needed libararies"
   ]
  },
  {
   "cell_type": "code",
   "execution_count": 1,
   "metadata": {},
   "outputs": [
    {
     "name": "stdout",
     "output_type": "stream",
     "text": [
      "Requirement already satisfied: scikit-learn in c:\\users\\utente\\onedrive - politecnico di torino\\llm_course\\from-0-to-llm\\.venv\\lib\\site-packages (1.7.1)\n",
      "Requirement already satisfied: numpy>=1.22.0 in c:\\users\\utente\\onedrive - politecnico di torino\\llm_course\\from-0-to-llm\\.venv\\lib\\site-packages (from scikit-learn) (2.3.2)\n",
      "Requirement already satisfied: scipy>=1.8.0 in c:\\users\\utente\\onedrive - politecnico di torino\\llm_course\\from-0-to-llm\\.venv\\lib\\site-packages (from scikit-learn) (1.16.1)\n",
      "Requirement already satisfied: joblib>=1.2.0 in c:\\users\\utente\\onedrive - politecnico di torino\\llm_course\\from-0-to-llm\\.venv\\lib\\site-packages (from scikit-learn) (1.5.2)\n",
      "Requirement already satisfied: threadpoolctl>=3.1.0 in c:\\users\\utente\\onedrive - politecnico di torino\\llm_course\\from-0-to-llm\\.venv\\lib\\site-packages (from scikit-learn) (3.6.0)\n"
     ]
    }
   ],
   "source": [
    "#To upgrade scikit learn to latest version. Then restart kernel. You need to run this cell only once.\n",
    "!python -m pip install scikit-learn --upgrade "
   ]
  },
  {
   "cell_type": "code",
   "execution_count": 2,
   "metadata": {},
   "outputs": [],
   "source": [
    "#Libraries for the tutorial\n",
    "import pandas as pd\n",
    "import matplotlib.pyplot as plt\n",
    "import numpy as np\n",
    "from sklearn.cluster import KMeans\n",
    "from sklearn.cluster import AgglomerativeClustering\n",
    "from sklearn.cluster import DBSCAN\n",
    "from sklearn.metrics import silhouette_score, adjusted_rand_score, rand_score"
   ]
  },
  {
   "cell_type": "markdown",
   "metadata": {},
   "source": [
    "## 2. Tutorial - Clustering\n",
    "\n",
    "In the tutorial we will use the classical IRIS dataset"
   ]
  },
  {
   "cell_type": "code",
   "execution_count": 3,
   "metadata": {},
   "outputs": [],
   "source": [
    "# load dataset of IRIS flowers\n",
    "from sklearn import datasets\n",
    "iris_data = datasets.load_iris() #dataset famoso con 150 campioni di fiori di iris\n",
    "features_iris = ['sepal_length', 'sepal_width', 'petal_length', 'petal_width'] #features\n",
    "df_iris = pd.DataFrame(iris_data.data, columns = features_iris) #estraiamo features\n",
    "#settiamo colonna type\n",
    "df_iris['type'] = 'setosa'\n",
    "df_iris.loc[50:99, 'type'] = 'versicolor'\n",
    "df_iris.loc[100:149, 'type'] = 'virginica'"
   ]
  },
  {
   "cell_type": "code",
   "execution_count": null,
   "metadata": {},
   "outputs": [],
   "source": [
    "\n",
    "#!THEORY\n",
    "#fit() train model (gets parameters)\n",
    "#predict() compute y_pred\n",
    "#transform() transform features --> PREPROCESSING\n",
    "#fit_predict() does both\n",
    "#fit_transform() does both"
   ]
  },
  {
   "cell_type": "markdown",
   "metadata": {},
   "source": [
    "## 2.1 k-Means\n",
    "\n",
    "k-Means needs as hyper-parameter the number of clusters k.\n",
    "Another hyper-parameter is the initialization strategy for the centroid ``init``:\n",
    "- *random*: centroids will be initialized randomly in the valid data region. You can specify the ``random_state``. Changing the random state may change the result due to a different centroid inizialization.\n",
    "- *k-means++*: centroids will be equally distant from each other, leading to provably better results than random initialization.\n",
    "- ndarray: if you have a clue about where centroids could be, you can pass them (i.e. their coordinates) as initialization.\n",
    "\n",
    "Moreover, ``n_init`` is the number of times the k-means algorithm will be run with different centroid seeds. The final results will be the best output of n_init consecutive runs in terms of clustering error. \n",
    "\n",
    "For the tutorial, we will not perform any pre-processing step and directly apply k-Means.\n",
    "To create the clusters the ``.fit()`` function creates the clustering function and clusters, by minimizing the clustering error on the data.\n",
    "\n",
    "Here we are using n_init=1 and random initialization. Try to change the used features ``features_iris``, and the hyper-parameters ``n_clusters`` and ``random_state`` and see what changes"
   ]
  },
  {
   "cell_type": "code",
   "execution_count": 4,
   "metadata": {},
   "outputs": [
    {
     "name": "stdout",
     "output_type": "stream",
     "text": [
      "The clustered labels are:\n",
      " [0 0 0 0 0 0 0 0 0 0 0 0 0 0 0 0 0 0 0 0 0 0 0 0 0 0 0 0 0 0 0 0 0 0 0 0 0\n",
      " 0 0 0 0 0 0 0 0 0 0 0 0 0 1 2 1 2 2 2 2 2 2 2 2 2 2 2 2 2 2 2 2 2 2 2 2 2\n",
      " 2 2 1 1 2 2 2 2 2 2 2 2 2 2 2 2 2 2 2 2 2 2 2 2 0 2 1 2 1 1 1 1 2 1 1 1 1\n",
      " 1 1 2 2 1 1 1 1 2 1 2 1 2 1 1 2 2 1 1 1 1 1 1 1 1 1 1 2 1 1 1 2 1 1 1 2 1\n",
      " 1 2]\n",
      "\n",
      "The centroids are:\n",
      " [[5.00784314 1.49215686]\n",
      " [6.83902439 5.67804878]\n",
      " [5.87413793 4.39310345]]\n",
      "\n"
     ]
    }
   ],
   "source": [
    "features_iris = ['sepal_length', 'petal_length'] # the five features are ['sepal_length', 'sepal_width', 'petal_length', 'petal_width']\n",
    "\n",
    "kmeans = KMeans(n_clusters=3, init='random', random_state=None, n_init=1)\n",
    "kmeans.fit(df_iris[features_iris])\n",
    "\n",
    "# print the clustered labels\n",
    "print('The clustered labels are:\\n', kmeans.labels_)\n",
    "print()\n",
    "\n",
    "# print the centroid of each feature for each cluster\n",
    "print('The centroids are:\\n', kmeans.cluster_centers_)\n",
    "print()"
   ]
  },
  {
   "cell_type": "markdown",
   "metadata": {},
   "source": [
    "You can also visualize the points and their assignments. The following function will show the result if you have 2 features (2D scatter plot). If you have more dimensions, you can plot all the couples of features, or first perform dimensionality reduction (e.g., PCA)."
   ]
  },
  {
   "cell_type": "code",
   "execution_count": 5,
   "metadata": {},
   "outputs": [],
   "source": [
    "# Helper function to plot the clustering -- only 2 dimensione (if more, it will plot only the first two columns).\n",
    "def plot_clustering(X, labels, centers=None, title=\"\", subplot=None):\n",
    "\n",
    "    # Plot in given subplot\n",
    "    if subplot:\n",
    "        plt.subplot(subplot)\n",
    "\n",
    "    # Plot data with labels as color\n",
    "    plt.scatter(X.iloc[:, 0], X.iloc[:, 1], c=labels)\n",
    "\n",
    "    # Plot centers if given\n",
    "    if centers is not None:\n",
    "        plt.scatter(\n",
    "            centers[:, 0], centers[:, 1], c=\"red\", s=150, alpha=0.9, label=\"Centers\"\n",
    "        )\n",
    "\n",
    "    # Set title\n",
    "    plt.title(title)\n",
    "    plt.xlabel(X.columns[0])\n",
    "    plt.ylabel(X.columns[1])"
   ]
  },
  {
   "cell_type": "code",
   "execution_count": 6,
   "metadata": {},
   "outputs": [
    {
     "data": {
      "image/png": "[encoded data removed]",
      "text/plain": [
       "<Figure size 640x480 with 1 Axes>"
      ]
     },
     "metadata": {},
     "output_type": "display_data"
    }
   ],
   "source": [
    "plot_clustering(df_iris[features_iris], kmeans.labels_, kmeans.cluster_centers_)"
   ]
  },
  {
   "cell_type": "markdown",
   "metadata": {},
   "source": [
    "### Unsupervised clustering performance\n",
    "\n",
    "After having computed the clusters, we can obtain clustering performance metrics:\n",
    "\n",
    "- the metric minimized in the clustering algorithm for the empirical data (for k-Means, the mean squared distance of the points from their own centroid)\n",
    "- the silhouette to measure the similarity of a sample to its own cluster, compared to other clusters (<a href=\"https://en.wikipedia.org/wiki/Silhouette_(clustering)\">Wiki</a>)\n",
    "\n",
    "See how the results change by changing the hyper-parameters"
   ]
  },
  {
   "cell_type": "code",
   "execution_count": 8,
   "metadata": {},
   "outputs": [
    {
     "name": "stdout",
     "output_type": "stream",
     "text": [
      "Sum of squared distances of the samples from their centroid:  53.809978644106934\n",
      "Mean squared distances of the samples from their centroid:  0.3587331909607129\n",
      "Silhouette score of the samples:  0.5890584158017611\n"
     ]
    }
   ],
   "source": [
    "#Sum of squared distances of samples to their closest cluster center.\n",
    "print(\"Sum of squared distances of the samples from their centroid: \", kmeans.inertia_) #SSE\n",
    "\n",
    "# If we divide it by number of sample m, it is the clustering error we have seen in theoretical lectures\n",
    "print(\"Mean squared distances of the samples from their centroid: \", kmeans.inertia_/len(df_iris))\n",
    "\n",
    "# To compute the silhouette, sklearn provides the silhouette_score in the metrics sklearn.metrics library\n",
    "print(\"Silhouette score of the samples: \",silhouette_score(df_iris[features_iris], kmeans.labels_))"
   ]
  },
  {
   "cell_type": "markdown",
   "metadata": {},
   "source": [
    "We can also compare clusters with the ground-truth labels (or with a different clustering):\n",
    "- Rand index (RI): given the knowledge of the ground truth class assignments labels_true and our clustering algorithm assignments of the same samples labels_pred, the Rand index is a function that measures the similarity of the two assignments,\n",
    "- Adjusted rand index (ARI): corrects the RI for chance and will give a baseline at 0.\n"
   ]
  },
  {
   "cell_type": "code",
   "execution_count": 7,
   "metadata": {},
   "outputs": [
    {
     "name": "stdout",
     "output_type": "stream",
     "text": [
      "RI between clustering and given classes is  0.8663982102908278\n",
      "ARI between clustering and given classes is  0.6988627672348092\n"
     ]
    }
   ],
   "source": [
    "# To compute the rand index and adjusted rand index sklearn provides the rand_score and adjusted_rand_score functions\n",
    "rand_score_result = rand_score(df_iris[\"type\"], kmeans.labels_)\n",
    "adj_rand_score_result = adjusted_rand_score(df_iris[\"type\"], kmeans.labels_)\n",
    "\n",
    "print(\"RI between clustering and given classes is \",rand_score_result)\n",
    "print(\"ARI between clustering and given classes is \",adj_rand_score_result)\n"
   ]
  },
  {
   "cell_type": "markdown",
   "metadata": {},
   "source": [
    "### Performance by changing k\n",
    "\n",
    "k can be chosen based on different criteria. For example:\n",
    "- Defined by application \n",
    "- Desired compression rate\n",
    "- Elbow (or knee) method \n",
    "- Validation error\n",
    "\n",
    "Here we will run the clustering algorithms with different values of k and evaluate the performances. "
   ]
  },
  {
   "cell_type": "code",
   "execution_count": null,
   "metadata": {},
   "outputs": [],
   "source": [
    "# Here we only have to run k-means with different values of k. \n",
    "# You could also run k-means with the same value of k but different random_seed to check different centroids initialization.\n",
    "\n",
    "#choose the features you want to work on  \n",
    "features_iris = ['sepal_length', 'sepal_width', 'petal_length', 'petal_width'] # the five features are ['sepal_length', 'sepal_width', 'petal_length', 'petal_width']\n",
    "\n",
    "kmeans_results = []\n",
    "for k in range(2, 21):\n",
    "    kmeans_results.append(KMeans(n_clusters=k).fit(df_iris[features_iris])) #con solo fit accedo a tutte le info del modello centroidi, labels, inertia, ecc.\n",
    "    #se mi servono solo le labels uso fit_predict"
   ]
  },
  {
   "cell_type": "code",
   "execution_count": 10,
   "metadata": {},
   "outputs": [
    {
     "data": {
      "image/png": "[encoded data removed]",
      "text/plain": [
       "<Figure size 800x350 with 2 Axes>"
      ]
     },
     "metadata": {},
     "output_type": "display_data"
    }
   ],
   "source": [
    "fig, axs = plt.subplots(1,2, figsize=(8, 3.5))\n",
    "\n",
    "axs[0].plot(\n",
    "    [k for k in range(2,21)], \n",
    "    [result.inertia_ for result in kmeans_results],'-o'\n",
    ")\n",
    "axs[0].set_xlabel(\"Number of clusters k\")\n",
    "axs[0].set_ylabel(\"Clustering error\")\n",
    "axs[0].grid()\n",
    "\n",
    "axs[1].plot(\n",
    "    [k for k in range(2,21)], \n",
    "    [silhouette_score(df_iris[features_iris], result.labels_) for result in kmeans_results],'-o'\n",
    ")\n",
    "axs[1].set_xlabel(\"Number of clusters k\")\n",
    "axs[1].set_ylabel(\"Silhouette\")\n",
    "axs[1].grid()\n",
    "\n",
    "plt.tight_layout()\n",
    "plt.show()"
   ]
  },
  {
   "cell_type": "markdown",
   "metadata": {},
   "source": [
    "Here the two plots show contrasting objectives: for clustering error, increasing k will improve the results, while for silhouette increasing k will worsen the results. For clustering error, the addition of an additional cluster cannot result in a larger average distance from the points to their corresponding cluster means. It naturally follows that the raw clustering error will always favour a larger number. Hence, by looking at the silhouette a very small number of k is more appropriate."
   ]
  },
  {
   "cell_type": "markdown",
   "metadata": {},
   "source": [
    "## 2.2 Hierarchical Clustering (Agglomerative)\n",
    "\n",
    "Agglomerative Clustering needs as hyper-parameter the number of clusters k (`n_clusters`).\n",
    "\n",
    "Another important hyper-parameter is the linkage criterion (`linkage`):\n",
    "- 'ward' : minimizes the variance of clusters being merged.\n",
    "- 'complete' : maximizes the distance between clusters.\n",
    "- 'average' : uses the average of distances between all pairs.\n",
    "- 'single' : minimize the distance between clusters.\n",
    "\n",
    "For the tutorial, we will not perform any pre-processing step and directly apply AgglomerativeClustering.\n",
    "To create the clusters, the `.fit()` function merges the samples step by step according to the linkage rule.\n",
    "\n",
    "Try to change the used features `features_iris`, and the hyper-parameters and see what changes\n"
   ]
  },
  {
   "cell_type": "code",
   "execution_count": 14,
   "metadata": {},
   "outputs": [
    {
     "data": {
      "image/png": "[encoded data removed]",
      "text/plain": [
       "<Figure size 640x480 with 1 Axes>"
      ]
     },
     "metadata": {},
     "output_type": "display_data"
    }
   ],
   "source": [
    "features_iris = ['sepal_length', 'petal_length']  # the five features are ['sepal_length', 'sepal_width', 'petal_length', 'petal_width']\n",
    "\n",
    "agglo = AgglomerativeClustering(n_clusters=3, linkage='complete')\n",
    "agglo_labels = agglo.fit_predict(df_iris[features_iris]) #ottengo labels\n",
    "\n",
    "# visualize the cluster (only first two dimensions)\n",
    "plot_clustering(df_iris[features_iris], agglo_labels)"
   ]
  },
  {
   "cell_type": "markdown",
   "metadata": {},
   "source": [
    "### Clustering performance\n",
    "\n",
    "After having computed the clusters, measure the average silhouette.\n",
    "See how the results change by changing the hyper-parameters.\n",
    "\n",
    "Finally, compare clusters with the ground-truth labels.\n"
   ]
  },
  {
   "cell_type": "code",
   "execution_count": null,
   "metadata": {},
   "outputs": [],
   "source": [
    "# To compute the silhouette, sklearn provides the silhouette_score in the metrics sklearn.metrics library\n",
    "print(\"Silhouette score of the samples: \", silhouette_score(df_iris[features_iris], agglo_labels))\n",
    "\n",
    "# Compare clusters with the ground-truth labels\n",
    "rand_score_result = rand_score(df_iris[\"type\"], agglo_labels)\n",
    "adj_rand_score_result = adjusted_rand_score(df_iris[\"type\"], agglo_labels)\n",
    "\n",
    "print(\"RI between clustering and given classes is \", rand_score_result)\n",
    "print(\"ARI between clustering and given classes is \", adj_rand_score_result)\n"
   ]
  },
  {
   "cell_type": "markdown",
   "metadata": {},
   "source": [
    "## 2.3 Density Based Clustering DBSCAN\n",
    "\n",
    "Both k-means and AgglomerativeClustering cluster data points using the Euclidean distance, which is a natural measure of similarity in many cases. However, in some applications, the data conforms to a different non-Euclidean structure. One important non-Euclidean structure is based on the notion of connectivity. Here, two data points are considered similar if they can be reached by intermediate data points that have a small Euclidean distance. \n",
    "\n",
    "In contrast to k-means and the AgglomerativeClustering, DBSCAN does not require the number of clusters to be pre-defined -  the obtained number will depend on its parameters. Moreover, DBSCAN detects outliers that are interpreted as degenerated clusters consisting of a single data point.\n",
    "\n",
    "DBSCAN requires specifying two parameters  `eps` and `min_samples`:\n",
    "- `eps`: the radius to define the neighborhood of a point.\n",
    "\n",
    "- `min_samples`: the minimum number of points (including the point itself) required to form a dense region.\n",
    "\n",
    "Points with at least min_samples neighbors within eps are considered core points and form clusters.\n",
    "Points that are not core points but are close to a core point are border points.\n",
    "Points that are neither are classified as noise. [Documentation](https://scikit-learn.org/stable/modules/clustering.html#dbscan). \n",
    "\n",
    " We need to set the eps and min_samples parameters, and tune DBSCAN epsilon based on Silhouette index.\n",
    "\n",
    "For the tutorial, we will not perform any pre-processing step and directly apply DBSCAN.\n",
    "To create the clusters the ``.fit()`` function creates the clustering function and clusters.\n",
    "\n",
    "Try to change the used features ``features_iris``, and the hyper-parameters  and see what changes"
   ]
  },
  {
   "cell_type": "code",
   "execution_count": null,
   "metadata": {},
   "outputs": [],
   "source": [
    "features_iris = ['sepal_length', 'petal_length'] # the five features are ['sepal_length', 'sepal_width', 'petal_length', 'petal_width']\n",
    "\n",
    "# fit the DBSCAN model\n",
    "dbscan = DBSCAN(eps=0.4, min_samples=3)\n",
    "dbscan.fit(df_iris[features_iris])"
   ]
  },
  {
   "cell_type": "code",
   "execution_count": null,
   "metadata": {},
   "outputs": [],
   "source": [
    "# note that the labels generated by DBSCAN might contain -1 values as result, representing outliers\n",
    "# print the clustered labels\n",
    "print('The clustered labels are:\\n', dbscan.labels_)\n",
    "print()"
   ]
  },
  {
   "cell_type": "code",
   "execution_count": null,
   "metadata": {},
   "outputs": [],
   "source": [
    "# Number of clusters in labels, ignoring noise if present.\n",
    "n_clusters_ = len(set(dbscan.labels_)) - (1 if -1 in dbscan.labels_ else 0)\n",
    "n_noise_ = list(dbscan.labels_).count(-1)\n",
    "\n",
    "print(\"Estimated number of clusters: %d\" % n_clusters_)\n",
    "print(\"Estimated number of noise points: %d\" % n_noise_)"
   ]
  },
  {
   "cell_type": "code",
   "execution_count": null,
   "metadata": {},
   "outputs": [],
   "source": [
    "#visualize the clusters (only first two dimensions)\n",
    "plot_clustering(df_iris[features_iris], dbscan.labels_)"
   ]
  },
  {
   "cell_type": "markdown",
   "metadata": {},
   "source": [
    "Tune DBSCAN based on silhouette score. Here we only tune eps."
   ]
  },
  {
   "cell_type": "code",
   "execution_count": null,
   "metadata": {},
   "outputs": [],
   "source": [
    "dbscan_results = []\n",
    "for eps in np.arange(0.05, 0.9, .1): #from 0.05 to 0.9 with steps of 0.1\n",
    "    dbscan_tmp = DBSCAN(eps=eps, min_samples=3)\n",
    "    dbscan_tmp.fit(df_iris[features_iris])\n",
    "    dbscan_results.append((eps, dbscan_tmp))"
   ]
  },
  {
   "cell_type": "code",
   "execution_count": null,
   "metadata": {},
   "outputs": [],
   "source": [
    "silhouettes_dbscan = []\n",
    "silhouettes_dbscan_noOutliers= []\n",
    "\n",
    "for eps, dbscan_result in dbscan_results:\n",
    "\n",
    "    # compute silhouette score\n",
    "    score = silhouette_score(df_iris[features_iris], dbscan_result.labels_)\n",
    "    silhouettes_dbscan.append((eps, score))\n",
    "    \n",
    "    # compute silhouette score only of clustered samples (not noise, i.e., not -1)\n",
    "    score = silhouette_score(\n",
    "        df_iris[~df_iris.index.isin(np.where(dbscan_result.labels_ == -1)[0])][features_iris], \n",
    "        np.delete(dbscan_result.labels_, np.where(dbscan_result.labels_ == -1))\n",
    "    )\n",
    "    silhouettes_dbscan_noOutliers.append((eps, score))\n",
    "   \n"
   ]
  },
  {
   "cell_type": "code",
   "execution_count": null,
   "metadata": {},
   "outputs": [],
   "source": [
    "fig, axs = plt.subplots(1,2, figsize=(8, 3.5))\n",
    "\n",
    "axs[0].plot(\n",
    "    [eps for (eps, _) in silhouettes_dbscan], \n",
    "    [score for (_, score) in silhouettes_dbscan] \n",
    ")\n",
    "axs[0].set_xlabel(\"eps\")\n",
    "axs[0].set_ylabel(\"Silhouette\")\n",
    "axs[0].set_title(\"Average silhouette for all points\")\n",
    "axs[0].grid()\n",
    "\n",
    "axs[1].plot(\n",
    "    [eps for (eps, _) in silhouettes_dbscan_noOutliers], \n",
    "    [score for (_, score) in silhouettes_dbscan_noOutliers] \n",
    ")\n",
    "axs[1].set_xlabel(\"eps\")\n",
    "axs[1].set_ylabel(\"Silhouette\")\n",
    "axs[1].set_title(\"Average silhouette without considering outliers\")\n",
    "axs[1].grid()\n",
    "\n",
    "plt.tight_layout()\n",
    "plt.show()"
   ]
  },
  {
   "cell_type": "markdown",
   "metadata": {},
   "source": [
    "Considering all points, silhouette becomes very low with a small epsilon. This is because all the samples will be considered noise/outliers. "
   ]
  },
  {
   "cell_type": "code",
   "execution_count": null,
   "metadata": {},
   "outputs": [],
   "source": [
    "dbscan_tmp = DBSCAN(eps=0.05, min_samples=3)\n",
    "dbscan_tmp.fit(df_iris[features_iris])\n",
    "dbscan_tmp.labels_"
   ]
  },
  {
   "cell_type": "markdown",
   "metadata": {},
   "source": [
    "Best results are obtained for larger epsilon (with 2 clusters). Notice that if epsilon becomes very large (e.g., eps=3) all points will be in a single cluster, and silhouette cannot be computed. The second plot accounts only for points that are clustered (removing outliers). A very small eps here seems to suggest better results: however, most of the points are considered noise and only very few points are in the found clusters, with high silhouette (points close to each other and far from the other clusters)"
   ]
  },
  {
   "cell_type": "markdown",
   "metadata": {},
   "source": [
    "## Exercise \n",
    "### Exercise Outline\n",
    "\n",
    "- [1. Load Dataset](#1)\n",
    "- [2. K-Means](#2)\n",
    "- [3. Hierarchical Clustering](#3)\n",
    "- [4. DBScan](#4)\n",
    "- [5. Chameleon clusters data](#5)\n"
   ]
  },
  {
   "cell_type": "markdown",
   "metadata": {},
   "source": [
    "First, run the following cell to import some useful libraries to complete this Lab. If not already done, you must install them in your virtual environment"
   ]
  },
  {
   "cell_type": "code",
   "execution_count": null,
   "metadata": {},
   "outputs": [],
   "source": [
    "import pandas as pd\n",
    "import numpy as np\n",
    "import random\n",
    "import matplotlib.pyplot as plt\n",
    "\n",
    "from sklearn.cluster import KMeans, DBSCAN, AgglomerativeClustering\n",
    "from sklearn.metrics import silhouette_score, adjusted_rand_score"
   ]
  },
  {
   "cell_type": "markdown",
   "metadata": {},
   "source": [
    "If the previous cell outputs one the following error: `ModuleNotFoundError: No module named 'sklearn'`, then, you have to install the Scikit-Learn package. If you don't remember how to install a Python package, please retrieve the guide on Anaconda-Navigator.\n",
    "\n",
    "To install **sklearn** you can use one of the following commands from the terminal of your virtual environment: <br>\n",
    "`pip install -U scikit-learn` <br>\n",
    "`conda install -c intel scikit-learn`"
   ]
  },
  {
   "cell_type": "markdown",
   "metadata": {},
   "source": [
    "<a id='1'></a>\n",
    "## 1. Load dataset\n",
    "\n",
    "### Exercise 1.1\n",
    "Firstly, you will load the first dataset for this lab. Read the csv file from the following path `\"data_lab5/lab5_data.csv\"` into a DataFrame `df`. The separator of the csv file is the comma `,`. You should skip the header of the first row (i.e., skip the first row) and set the column names to the list stored in the variable `columns`.\n",
    "\n",
    "<details>    \n",
    "<summary>\n",
    "    <font size=\"3\" color=\"darkgreen\"><b>Hints</b></font>\n",
    "</summary>\n",
    "<p>\n",
    "<ul>\n",
    "    <li>To read a csv file into a DataFrame, you can use pd.read_csv().</li>\n",
    "    <li>To specify the <strong>separator</strong>, you can set the 'set' parameter.</li>\n",
    "    <li>To specify the <strong>column names</strong>, you can set the 'names' parameter.</li>\n",
    "    <li>To specify the <strong>number of rows to skip</strong>, you can set the 'skiprows' parameter.</li>\n",
    "</ul>\n",
    "</p>"
   ]
  },
  {
   "cell_type": "code",
   "execution_count": null,
   "metadata": {},
   "outputs": [],
   "source": [
    "columns = ['x', 'y', 'gt']\n",
    "\n",
    "#### START CODE HERE (~1 line) ####\n",
    "\n",
    "#### END CODE HERE ####\n",
    "\n",
    "df"
   ]
  },
  {
   "cell_type": "markdown",
   "metadata": {},
   "source": [
    "#### Expected output\n",
    "```                x\t         y     gt```<br>\n",
    "```0\t516.012706\t393.014514\t0```<br>\n",
    "```1\t436.211762\t408.656585\t0```<br>\n",
    "```2\t512.052601\t372.022014\t0```<br>\n",
    "```3\t489.140464\t401.807159\t0```<br>\n",
    "```4\t446.207986\t338.516682\t0```<br>\n",
    "```...\t       ...\t       ...    ...```<br>\n",
    "```331\t638.916471\t323.569096\t1```<br>\n",
    "```332\t542.005901\t347.527070\t0```<br>\n",
    "```333\t611.964612\t377.254978\t0```<br>\n",
    "```334\t520.654168\t455.996453\t0```<br>\n",
    "```335\t594.479314\t392.901455\t0```<br>\n",
    "```336 rows × 3 columns```"
   ]
  },
  {
   "cell_type": "markdown",
   "metadata": {},
   "source": [
    "The dataset is composed of the `x` and `y` coordinates for 336 points, and the True label in the column `gt`.\n",
    "The next cell will create a DataFrame with the **input features** (i.e., all the `x` and `y` coordinates of the points) into a new DataFrame `df_X`, and a Series containing the **ground-truth labels** `gt_series`. Run the next cell to create the DataFrame and the Series. Notice that, in this case, we also have the **true labels**. Normally, when using clustering, the true labels are **not** available. "
   ]
  },
  {
   "cell_type": "code",
   "execution_count": null,
   "metadata": {},
   "outputs": [],
   "source": [
    "df_X = df[[\"x\",\"y\"]].copy()\n",
    "gt_series = df[\"gt\"].copy()"
   ]
  },
  {
   "cell_type": "markdown",
   "metadata": {},
   "source": [
    "The next cell defines a function that takes a DataFrames in input, and plots the scatter plot (i.e., the points) contained in the `x` and `y` columns. Run the next cell to define the function."
   ]
  },
  {
   "cell_type": "code",
   "execution_count": null,
   "metadata": {},
   "outputs": [],
   "source": [
    "def plot_2d_scatter(df, title=\"\"): \n",
    "    \"\"\"Display a 2D scatter plot\n",
    "    :param df: input data points, DataFrame ('x' and 'y' coordinates in the first and second column, respectively)\n",
    "    :return: fig, ax, objects\n",
    "    \"\"\"\n",
    "    fig, ax = plt.subplots(figsize=(6, 5), dpi=90) \n",
    "    ax.scatter(df.iloc[:,0], df.iloc[:,1])\n",
    "    ax.set_xlabel(\"x\", fontsize=14)\n",
    "    ax.set_ylabel(\"y\", fontsize=14)\n",
    "    ax.set_title(title)\n",
    "    ax.grid(True)\n",
    "    return fig, ax # use them for further modifications"
   ]
  },
  {
   "cell_type": "markdown",
   "metadata": {},
   "source": [
    "The next cell calls the previously defined function and **plots all the points in the input dataset in the plane**. All points are plotted with the same color because you still have not applied clustering. Run the next cell to plot all the points in the plane."
   ]
  },
  {
   "cell_type": "code",
   "execution_count": null,
   "metadata": {},
   "outputs": [],
   "source": [
    "_, _ = plot_2d_scatter(df_X, \"Points in the plane\")"
   ]
  },
  {
   "cell_type": "markdown",
   "metadata": {},
   "source": [
    "Notice that, with 2-dimensional data (like in this case), you can easily visualize the number of clusters because you can plot the points in a plane. In this case, it is reasonable to think that there are 3 distinct clusters. However, the procedure that we will apply in this notebook can also be applied with **higher dimensional data**, which is not visualizable in a plane. Therefore, for high dimensional data, it is challenging to visualize the correct number of clusters. You have to select the best number of clusters based on the analysis of the data."
   ]
  },
  {
   "cell_type": "markdown",
   "metadata": {},
   "source": [
    "The next cell defines a function that visualizes each cluster in a plane with a different color. It takes as parameters the points stored in a DataFrame `df` with the $x$ and $y$ coordinates of points stored in the `x` and `y` columns, respectively, the list with the predicted cluster id for each point `y_pred`, and an optional plot title `title`. Run the next cell to define the function."
   ]
  },
  {
   "cell_type": "code",
   "execution_count": null,
   "metadata": {},
   "outputs": [],
   "source": [
    "def plot_2d_scatter_with_clusters(df, y_pred, title=\"\"): \n",
    "    \"\"\"Display a 2D scatter plot with each cluster with a different color\n",
    "    :param df: input data points, DataFrame ('x' and 'y' coordinates in the 'x' and 'y' columns, respectively)\n",
    "    :param y_pred: numpy array with the predicted label for each pointù\n",
    "    :param title: string containing the title of the chart\n",
    "    :return: fig, ax, objects\n",
    "    \"\"\"    \n",
    "    fig, ax = plt.subplots(figsize=(6, 5), dpi=90) \n",
    "    ax.set_xlabel(\"x\", fontsize=14)\n",
    "    ax.set_ylabel(\"y\", fontsize=14)\n",
    "    \n",
    "    n_clusters = list(set(y_pred)) \n",
    "    labels = [f\"Cluster {c}\" for c in n_clusters]\n",
    "    \n",
    "    for i, label in enumerate(n_clusters):\n",
    "        \n",
    "        if label == -1:\n",
    "            label_name = \"Outliers\"\n",
    "        else:\n",
    "            label_name = labels[i]\n",
    "\n",
    "        #add data points \n",
    "        ax.scatter(x=df.loc[y_pred==label, 'x'], \n",
    "                    y=df.loc[y_pred==label,'y'], \n",
    "                    alpha=0.7, label=label_name)\n",
    "        \n",
    "    ax.legend(loc=(1.1, 0.5))\n",
    "    ax.set_title(title)\n",
    "    ax.grid(True)\n",
    "    \n",
    "    return fig, ax # use them for further modifications"
   ]
  },
  {
   "cell_type": "markdown",
   "metadata": {},
   "source": [
    "Firstly, we will plot the points with a different color based on the **ground-truth labels** present in the dataset. As discussed before, this dataset contains the true labels. However, the true labels are usually **not** available when performing clustering. We can see that there are **3 well-separated different clusters**. However, some **noise** is present in the clusters (i.e., some green points are closer to the blue cluster than to the green one, etc.). \n",
    "\n",
    "Run the next cell to plot the points based on the ground-truth."
   ]
  },
  {
   "cell_type": "code",
   "execution_count": null,
   "metadata": {},
   "outputs": [],
   "source": [
    "_, _ = plot_2d_scatter_with_clusters(df_X, gt_series, \"Ground-Truth\")"
   ]
  },
  {
   "cell_type": "markdown",
   "metadata": {},
   "source": [
    "<a id='2'></a>\n",
    "## 2. K-Means"
   ]
  },
  {
   "cell_type": "markdown",
   "metadata": {},
   "source": [
    "### Exercise 2.1\n",
    "\n",
    "We know from the ground-truth plot that the best number of clusters is 3. Now you will perform the **K-Means algorithm** with **3 as the number of clusters** $k$ to see if the algorithm can correctly identify the clusters. Create a **KMeans object** into a variable called `kmeans` with 3 as the number of clusters $k$ and the number of initialization equal to 10 with the `n_init` parameter (the n_init parameter specifies the number of times the k-means algorithm is run with different centroid seeds). Then, **fit** the KMeans algorithm and **predict** the cluster label for the input points stored in `df_X`. Store the predicted label in a new variable called `y_pred_kmeans`.\n",
    "\n",
    "You can read the official documentation for the Scikit-Learn implementation of the K-Means algorithm <a href=\"https://scikit-learn.org/stable/modules/generated/sklearn.cluster.KMeans.html\" >here</a>.\n",
    "\n",
    "<details>    \n",
    "<summary>\n",
    "    <font size=\"3\" color=\"darkgreen\"><b>Hints</b></font>\n",
    "</summary>\n",
    "<p>\n",
    "<ul>\n",
    "    <li>You can specify the k value (i.e., number of clusters) for the K-Means algorithm with the 'n_clusters' parameter when creating the KMeans object.</li>\n",
    "    <li>You can specify the number of initialization for the centroid with the 'n_init' parameter when creating the KMeans object.</li>\n",
    "</ul>\n",
    "</p>"
   ]
  },
  {
   "cell_type": "code",
   "execution_count": null,
   "metadata": {},
   "outputs": [],
   "source": [
    "#### START CODE HERE (~2 lines) ####\n",
    "\n",
    "\n",
    "#### END CODE HERE ####"
   ]
  },
  {
   "cell_type": "markdown",
   "metadata": {},
   "source": [
    "Now, run the next cell to visualize the predicted clusters in the plane."
   ]
  },
  {
   "cell_type": "code",
   "execution_count": null,
   "metadata": {},
   "outputs": [],
   "source": [
    "_, _ = plot_2d_scatter_with_clusters(df_X, y_pred_kmeans, \"K-Means with $k=3$\")"
   ]
  },
  {
   "cell_type": "markdown",
   "metadata": {},
   "source": [
    "The chart shows that the algorithm, with this data, can correctly identify the 3 clusters."
   ]
  },
  {
   "cell_type": "markdown",
   "metadata": {},
   "source": [
    "### Exercise 2.2\n",
    "Often, you cannot visualize the results of the clustering algorithm graphically because the input features can be **high-dimensional**. Moreover, usually, the **true labels are not available** when performing clustering (i.e., **unsupervised learning**). Now, you will **evaluate the performance** of the K-Means algorithm with $k=3$ with the **silhouette** metric.\n",
    "\n",
    "**Compute** the **average silhouette** for the cluster division with $k=3$ into a variable `silh_avg`. Then, **print** the silhouette value. Remember, the silhouette is a score in the range [-1, 1] that measures the **cohesion** and the **separation** of clusters (i.e., points within the same cluster must be very cohesive with each other and well separated from points in other clusters). The higher the value, the better the cluster. You can learn more about **silhouette** <a href=\"https://tushar-joshi-89.medium.com/silhouette-score-a9f7d8d78f29\" >here</a> and <a href=\"https://towardsdatascience.com/silhouette-coefficient-validating-clustering-techniques-e976bb81d10c\" >here</a>.\n",
    "\n",
    "<details>    \n",
    "<summary>\n",
    "    <font size=\"3\" color=\"darkgreen\"><b>Hints</b></font>\n",
    "</summary>\n",
    "<p>\n",
    "<ul>\n",
    "    <li>To compute the average silhouette you can use the 'silhouette_score' function of the Scikit-Learn library <a href=\"https://scikit-learn.org/stable/modules/generated/sklearn.metrics.silhouette_score.html\" >link</a>.</li>\n",
    "    <li>You have to specify the points (e.g., the dataframe) and the predicted cluster labels.</li>\n",
    "</ul>\n",
    "</p>"
   ]
  },
  {
   "cell_type": "code",
   "execution_count": null,
   "metadata": {},
   "outputs": [],
   "source": [
    "#### START CODE HERE (~2 lines) ####\n",
    "\n",
    "#### END CODE HERE ####"
   ]
  },
  {
   "cell_type": "markdown",
   "metadata": {},
   "source": [
    "#### Expected output\n",
    "```0.6112689520666093```"
   ]
  },
  {
   "cell_type": "markdown",
   "metadata": {},
   "source": [
    "The silhouette value shows that K-Means algorithm with $k=3$ performs well with a value that is approximately 0.61."
   ]
  },
  {
   "cell_type": "markdown",
   "metadata": {},
   "source": [
    "### Exercise 2.3\n",
    "Now, you will **evaluate the predicted clusters with respect to the true labels**. Again, usually, the true labels are **not** available. Therefore, you cannot evaluate the clustering algorithm with the true labels. However, the true labels can be available to some datasets used to evaluate **new** clustering algorithms (e.g., if you want to propose a new clustering algorithm). As a **quantitative evaluation metric** you can use the **rand index**. You can learn more about **rand index** <a href=\"https://www.statology.org/rand-index/\" >here</a>.\n",
    "\n",
    "The Rand index always takes on a value between 0 and 1, where 0 indicates that two clustering methods do not agree on the clustering of any pair of elements, and 1 indicates that two clustering methods perfectly agree on the clustering of every pair of elements (i.e., the higher the value, the better the performance of the algorithm).\n",
    "\n",
    "\n",
    "Now, **compute** and **print** the **rand index** of the predicted cluster labels and the true labels. Remember that the true labels are stored in the `gt_series` variable.\n",
    "<details>    \n",
    "<summary>\n",
    "    <font size=\"3\" color=\"darkgreen\"><b>Hints</b></font>\n",
    "</summary>\n",
    "<p>\n",
    "<ul>\n",
    "    <li>To compute the average rand index you can use the 'adjusted_rand_score' function of the Scikit-Learn library <a href=\"https://scikit-learn.org/stable/modules/generated/sklearn.metrics.adjusted_rand_score.html\" >link</a>.</li>\n",
    "    <li>You have to specify the true labels (e.g., the series or the list with the true labels) and the predicted cluster labels.</li>\n",
    "</ul>\n",
    "</p>"
   ]
  },
  {
   "cell_type": "code",
   "execution_count": null,
   "metadata": {},
   "outputs": [],
   "source": [
    "#### START CODE HERE (~2 lines) ####\n",
    "\n",
    "#### END CODE HERE ####"
   ]
  },
  {
   "cell_type": "markdown",
   "metadata": {},
   "source": [
    "#### Expected output\n",
    "```0.9308764986695224```"
   ]
  },
  {
   "cell_type": "markdown",
   "metadata": {},
   "source": [
    "The rand index value shows that K-Means algorithm with $k=3$ performs well. It correctly assigns most of the cluster labels."
   ]
  },
  {
   "cell_type": "markdown",
   "metadata": {},
   "source": [
    "### Exercise 2.4\n",
    "\n",
    "Can we identify the best number of clusters $k$ without visualizing the ground-truth or the points in a plane? \n",
    "\n",
    "As discussed before, ground-truth labels are usually **not** available. Moreover, clustering can also be performed with high dimensional data where you can not visualize the samples in a plane (i.e., identifying the number of clusters just by visualizing it will be difficult).\n",
    "\n",
    "Now you will perform the KMeans algorithm for **different values of** $k \\in [2, 10]$. Then, you will **visualize** and **evaluate** each $k$ division to select the best $k$ with the **silhouette score** and the **cluster charts**.\n",
    "\n",
    "Implement a loop for each value of $k$ from `min_k` to `max_k` (both included). Then, for each value of $k$ (i.e., each iteration) create a KMeans object with the current number of clusters and the parameter `n_init` equal to 10. Predict the cluster labels for the points stored in `df_X` with the current $k$ (i.e., using the current kmeans object). Append to `y_pred_list` the predicted cluster labels for the current $k$. Compute the current silhouette and append it to `silh_list`.\n",
    "\n",
    "You can read the official documentation for the Scikit-Learn implementation of the K-Means algorithm <a href=\"https://scikit-learn.org/stable/modules/generated/sklearn.cluster.KMeans.html\" >here</a>.\n",
    "\n",
    "Replace `None` with your code."
   ]
  },
  {
   "cell_type": "code",
   "execution_count": null,
   "metadata": {},
   "outputs": [],
   "source": [
    "min_k = 2 # Starting from 2 clusters\n",
    "max_k = 10 # Until 10 clusters\n",
    "\n",
    "silh_list = [] # List of avg silouhette values for each cluster division (k)\n",
    "y_pred_list = [] # list of numpy arrays containing the predicted clusters labels for each k\n",
    "\n",
    "#### START CODE HERE ####\n",
    "for k in range(None, None): # Define a loop for each k in [min_k, max_k] (both included)\n",
    "    kmeans_k = None # Create the K-Means object with current k and n_init = 10\n",
    "    y_pred_kmeans_k = None # Predict the cluster labels with current k\n",
    "    \n",
    "    y_pred_list.append(None) # Append the list of predicted cluster labels \n",
    "    \n",
    "    silh_avg_k = silhouette_score(None, None) # Compute the average silhouette for current k\n",
    "    silh_list.append(None) # Append the average silhoette\n",
    "    \n",
    "#### END CODE HERE ####"
   ]
  },
  {
   "cell_type": "markdown",
   "metadata": {},
   "source": [
    "The next cell visualizes the plots of all the $k$ values"
   ]
  },
  {
   "cell_type": "code",
   "execution_count": null,
   "metadata": {
    "scrolled": false
   },
   "outputs": [],
   "source": [
    "for k in range(min_k, max_k+1):\n",
    "    _, _ = plot_2d_scatter_with_clusters(df_X, y_pred_list[k-min_k], f\"K-Means Clustering with {k} clusters\")"
   ]
  },
  {
   "cell_type": "markdown",
   "metadata": {},
   "source": [
    "What do you think is the best k-value? Why?"
   ]
  },
  {
   "cell_type": "code",
   "execution_count": null,
   "metadata": {},
   "outputs": [],
   "source": [
    "#### START ANSWER HERE ####\n",
    "\n",
    "#### END ANSWER HERE ####"
   ]
  },
  {
   "cell_type": "markdown",
   "metadata": {},
   "source": [
    "Now, you will plot the average silhouette value for each $k$ value analyzed. Please, run the next cell to visualize the plot."
   ]
  },
  {
   "cell_type": "code",
   "execution_count": null,
   "metadata": {},
   "outputs": [],
   "source": [
    "fig, ax = plt.subplots(figsize=(7, 4))\n",
    "x = range(len(silh_list))\n",
    "x_ticks = range(min_clusters, max_clusters+1)\n",
    "\n",
    "ax.plot(x, silh_list, marker='*')\n",
    "ax.set_xticks(x, x_ticks)\n",
    "ax.set_xlabel(\"Number of clusters (k)\")\n",
    "ax.set_ylabel(\"Silhouette\")\n",
    "ax.grid(True)"
   ]
  },
  {
   "cell_type": "markdown",
   "metadata": {},
   "source": [
    "From this silhouette graph, what do you think is the best k-value? Has your answer changed since before? Why?"
   ]
  },
  {
   "cell_type": "code",
   "execution_count": null,
   "metadata": {},
   "outputs": [],
   "source": [
    "#### START ANSWER HERE ####\n",
    "\n",
    "#### END ANSWER HERE ####"
   ]
  },
  {
   "cell_type": "markdown",
   "metadata": {},
   "source": [
    "<a id='3'></a>\n",
    "## 3. Hierarchical Clustering"
   ]
  },
  {
   "cell_type": "markdown",
   "metadata": {},
   "source": [
    "Here, is already provided to you the code to run the **Hierarchical clustering**. Run the next cells to perform the hierarchical clustering. The dendrogram of the hierarchical clustering is automatically cut to match the `n_clusters` specified. You can read the documentation of the agglomerative clustering <a href=\"https://scikit-learn.org/stable/modules/generated/sklearn.cluster.AgglomerativeClustering.html\" >here</a>."
   ]
  },
  {
   "cell_type": "code",
   "execution_count": null,
   "metadata": {},
   "outputs": [],
   "source": [
    "n_clusters = 3\n",
    "hc = AgglomerativeClustering(n_clusters)\n",
    "y_pred_hc = hc.fit_predict(df_X)"
   ]
  },
  {
   "cell_type": "code",
   "execution_count": null,
   "metadata": {},
   "outputs": [],
   "source": [
    "_, _ = plot_2d_scatter_with_clusters(df_X, y_pred_hc, f\"Hierarchical Clustering with {n_clusters} clusters\")"
   ]
  },
  {
   "cell_type": "code",
   "execution_count": null,
   "metadata": {},
   "outputs": [],
   "source": [
    "silh_avg_hc = silhouette_score(df_X, y_pred_hc)\n",
    "print(silh_avg_hc)"
   ]
  },
  {
   "cell_type": "markdown",
   "metadata": {},
   "source": [
    "You can see that the result is practically the same."
   ]
  },
  {
   "cell_type": "markdown",
   "metadata": {},
   "source": [
    "<a id='4'></a>\n",
    "## 4. DBScan"
   ]
  },
  {
   "cell_type": "markdown",
   "metadata": {},
   "source": [
    "Here, is already provided to you the code to run the **Density-based clustering (dbscan)**. Run the next cells to perform the dbscan clustering. The dbscan does not require the specification of the number of clusters. Moreover, it also identifies the outliers. However, it require the specification of two parameters: epsilon and the minimum number of points that are often difficult to set. You can read the documentation of the dbscan clustering <a href=\"https://scikit-learn.org/stable/modules/generated/sklearn.cluster.DBSCAN.html\" >here</a>."
   ]
  },
  {
   "cell_type": "code",
   "execution_count": null,
   "metadata": {},
   "outputs": [],
   "source": [
    "dbscan = DBSCAN(eps=20, min_samples=10)"
   ]
  },
  {
   "cell_type": "code",
   "execution_count": null,
   "metadata": {},
   "outputs": [],
   "source": [
    "y_pred_dbscan= dbscan.fit_predict(df_X)"
   ]
  },
  {
   "cell_type": "code",
   "execution_count": null,
   "metadata": {},
   "outputs": [],
   "source": [
    "_, _ = plot_2d_scatter_with_clusters(df_X, y_pred_dbscan, \"DBScan Clustering\")"
   ]
  },
  {
   "cell_type": "markdown",
   "metadata": {},
   "source": [
    "The red points are the outliers."
   ]
  },
  {
   "cell_type": "markdown",
   "metadata": {},
   "source": [
    "<a id='5'></a>\n",
    "## 5. Chameleon clusters data"
   ]
  },
  {
   "cell_type": "markdown",
   "metadata": {},
   "source": [
    "Now, you will move to another dataset, the `chameleon_clusters` data. This time the true labels are not available.\n",
    "The next cell loads the data into a DataFrame `df_X_cc`. Please run the next cell to load the data."
   ]
  },
  {
   "cell_type": "code",
   "execution_count": null,
   "metadata": {},
   "outputs": [],
   "source": [
    "df_X_cc = pd.read_csv(\"data_lab5/chameleon_clusters.csv\", sep=\",\")\n",
    "df_X_cc"
   ]
  },
  {
   "cell_type": "markdown",
   "metadata": {},
   "source": [
    "Run the next cell to plot the points in the plane."
   ]
  },
  {
   "cell_type": "code",
   "execution_count": null,
   "metadata": {},
   "outputs": [],
   "source": [
    "_, _ = plot_2d_scatter(df_X_cc, \"Points in the plane\")"
   ]
  },
  {
   "cell_type": "markdown",
   "metadata": {},
   "source": [
    "You can see that this time the points are distributed in a more complicated manner. It is also more difficult to identify the best number of clusters. In addition, there are many points that are outliers."
   ]
  },
  {
   "cell_type": "markdown",
   "metadata": {},
   "source": [
    "### Exercise 5.1\n",
    "\n",
    "Now, you will implement the same loop as for exercise 2.4. The loop iterates over different values of $k$ from `min_k` to `max_k`. For each $k$ value (i.e., each iteration) create a KMeans object with the current number of clusters and the parameter `n_init` equal to 10. Predict the cluster labels for the points stored in `df_X_cc` with the current $k$ (i.e., using the current kmeans object). Append to `y_pred_list` the predicted cluster labels for the current $k$. Compute the current silhouette and append it to `silh_list`.\n",
    "\n",
    "You can read the official documentation for the Scikit-Learn implementation of the K-Means algorithm <a href=\"https://scikit-learn.org/stable/modules/generated/sklearn.cluster.KMeans.html\" >here</a>.\n",
    "\n",
    "Replace `None` with your code."
   ]
  },
  {
   "cell_type": "code",
   "execution_count": null,
   "metadata": {},
   "outputs": [],
   "source": [
    "min_k = 2 # Starting from 2 clusters\n",
    "max_k = 10 # Until 10 clusters\n",
    "silh_list = [] # List of avg silouhette values for each cluster division (k)\n",
    "y_pred_list = [] # list of numpy arrays containing the predicted clusters labels for each k\n",
    "\n",
    "#### START CODE HERE ####\n",
    "for k in range(None, None): # Define a loop for each k in [min_k, max_k]\n",
    "    kmeans_k = None # Define the kmeans object with current k and n_init = 10\n",
    "    y_pred_kmeans_k = None # Predict the cluster labels with current k\n",
    "    \n",
    "    y_pred_list.append(None) # Append the predicted labels to the list of predictions\n",
    "    \n",
    "    silh_avg_k = silhouette_score(None, None) # Compute the average silhouette for the current k\n",
    "    silh_list.append(None) # Append the current average silhouette to the list of silhouette values\n",
    "#### END CODE HERE ####"
   ]
  },
  {
   "cell_type": "markdown",
   "metadata": {},
   "source": [
    "The next cell visualizes the clusters plots of all the $k$ values."
   ]
  },
  {
   "cell_type": "code",
   "execution_count": null,
   "metadata": {
    "scrolled": false
   },
   "outputs": [],
   "source": [
    "for k in range(min_k, max_k+1):\n",
    "    _, _ = plot_2d_scatter_with_clusters(df_X_cc, y_pred_list[k-min_k], f\"K-Means Clustering with {k} clusters\")"
   ]
  },
  {
   "cell_type": "markdown",
   "metadata": {},
   "source": [
    "In this case, KMeans performs worse. In fact, it fails to detect clusters correctly. You can see that it tends to form spherical clusters. Moreover, it is not suitable for clusters and points with different densities.\n",
    "\n",
    "Now, you will plot the average silhouette value for each $k$ value analyzed. Please, run the next cell to visualize the plot."
   ]
  },
  {
   "cell_type": "code",
   "execution_count": null,
   "metadata": {},
   "outputs": [],
   "source": [
    "fig, ax = plt.subplots(figsize=(7, 4))\n",
    "x = range(len(silh_list))\n",
    "x_ticks = range(min_clusters, max_clusters+1)\n",
    "\n",
    "ax.plot(x, silh_list, marker='*')\n",
    "ax.set_xticks(x, x_ticks)\n",
    "ax.set_xlabel(\"Number of clusters (k)\")\n",
    "ax.set_ylabel(\"Silhouette\")\n",
    "ax.grid(True)"
   ]
  },
  {
   "cell_type": "markdown",
   "metadata": {},
   "source": [
    "From the silhouette graph, the best k-number seems to be 2. However, we can visually see that it is not very effective."
   ]
  },
  {
   "cell_type": "markdown",
   "metadata": {},
   "source": [
    "### Exercise 5.2\n",
    "\n",
    "For this type of data with different densities, **dbscan** may be a better choice. Perform the clustering with the **dbscan** algorithm for the data stored in `df_X_cc`. Store the predicted labels in a variable `y_pred_dbscan`. Set the parameters of the DBSCAN object as follows: `eps`=10 and `min_samples`=20. Go ahead and try changing the values to see how the results change. You can read the documentation of the dbscan clustering <a href=\"https://scikit-learn.org/stable/modules/generated/sklearn.cluster.DBSCAN.html\" >here</a>."
   ]
  },
  {
   "cell_type": "code",
   "execution_count": null,
   "metadata": {},
   "outputs": [],
   "source": [
    "#### START CODE HERE (~2 lines) ####\n",
    "\n",
    "#### END CODE HERE ####"
   ]
  },
  {
   "cell_type": "markdown",
   "metadata": {},
   "source": [
    "Now, run the next cell to plot the results."
   ]
  },
  {
   "cell_type": "code",
   "execution_count": null,
   "metadata": {},
   "outputs": [],
   "source": [
    "_, _ = plot_2d_scatter_with_clusters(df_X_cc, y_pred_dbscan, \"DBScan Clustering\")"
   ]
  },
  {
   "cell_type": "markdown",
   "metadata": {},
   "source": [
    "Graphically, you can see that the DBScan seems to perform much better in this case. It can identify clusters of points and also outliers."
   ]
  }
 ],
 "metadata": {
  "kernelspec": {
   "display_name": ".venv",
   "language": "python",
   "name": "python3"
  },
  "language_info": {
   "codemirror_mode": {
    "name": "ipython",
    "version": 3
   },
   "file_extension": ".py",
   "mimetype": "text/x-python",
   "name": "python",
   "nbconvert_exporter": "python",
   "pygments_lexer": "ipython3",
   "version": "3.13.7"
  }
 },
 "nbformat": 4,
 "nbformat_minor": 1
}
