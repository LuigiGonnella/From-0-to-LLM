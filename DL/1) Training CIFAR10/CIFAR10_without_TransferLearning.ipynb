{
 "cells": [
  {
   "cell_type": "markdown",
   "id": "9506aedc",
   "metadata": {},
   "source": [
    "# TRAINING AN IMAGE CLASSIFIER\n",
    "CIFAR10 is a dataset with different images and 10 classes ( ‘airplane’, ‘automobile’, ‘bird’, ‘cat’, ‘deer’, ‘dog’, ‘frog’, ‘horse’, ‘ship’, ‘truck’).\n",
    "Every image has size 3x32x32 with convention channel-first (pytorch)\n",
    "We will do the following:\n",
    "\n",
    "1) **Load** and **normalize** the CIFAR10 training and test dataset using **torchvision**\n",
    "2) **Define** a **Convolutional Neural Network (CNN)**\n",
    "3) **Define** a **loss function** \n",
    "4) **Train** the network on training data\n",
    "5) **Test** the network on test data"
   ]
  },
  {
   "cell_type": "markdown",
   "id": "4cb854e4",
   "metadata": {},
   "source": [
    "# 1) Load and normalize CIFAR10"
   ]
  },
  {
   "cell_type": "code",
   "execution_count": 8,
   "id": "01e75fac",
   "metadata": {},
   "outputs": [
    {
     "name": "stdout",
     "output_type": "stream",
     "text": [
      "c:\\Users\\Utente\\OneDrive - Politecnico di Torino\\ADVANCED_ML\\PYTORCH\\venv\\Scripts\\python.exe\n",
      "3.12.0 (tags/v3.12.0:0fb18b0, Oct  2 2023, 13:03:39) [MSC v.1935 64 bit (AMD64)]\n"
     ]
    }
   ],
   "source": [
    "import sys\n",
    "print(sys.executable)\n",
    "print(sys.version)"
   ]
  },
  {
   "cell_type": "code",
   "execution_count": 7,
   "id": "249abd25",
   "metadata": {},
   "outputs": [
    {
     "name": "stdout",
     "output_type": "stream",
     "text": [
      "\n"
     ]
    }
   ],
   "source": [
    "import subprocess, sys\n",
    "print(subprocess.run([sys.executable, \"-m\", \"pip\", \"show\", \"torch\"], capture_output=True, text=True).stdout)"
   ]
  },
  {
   "cell_type": "code",
   "execution_count": 9,
   "id": "c32b2b2c",
   "metadata": {},
   "outputs": [
    {
     "name": "stdout",
     "output_type": "stream",
     "text": [
      "Kernel Python: c:\\Users\\Utente\\OneDrive - Politecnico di Torino\\ADVANCED_ML\\PYTORCH\\venv\\Scripts\\python.exe\n",
      "3.12.0 (tags/v3.12.0:0fb18b0, Oct  2 2023, 13:03:39) [MSC v.1935 64 bit (AMD64)]\n",
      "pip show torch output:\n",
      "<nessun output>\n"
     ]
    }
   ],
   "source": [
    "# Esegui questa cella nel notebook\n",
    "import sys, subprocess\n",
    "print(\"Kernel Python:\", sys.executable)\n",
    "print(sys.version)\n",
    "print(\"pip show torch output:\")\n",
    "print(subprocess.run([sys.executable, \"-m\", \"pip\", \"show\", \"torch\"], capture_output=True, text=True).stdout or \"<nessun output>\")"
   ]
  },
  {
   "cell_type": "code",
   "execution_count": 10,
   "id": "96cdfa12",
   "metadata": {},
   "outputs": [
    {
     "name": "stdout",
     "output_type": "stream",
     "text": [
      "Looking in indexes: https://download.pytorch.org/whl/cu121\n",
      "Collecting torch\n",
      "  Using cached https://download.pytorch.org/whl/cu121/torch-2.5.1%2Bcu121-cp312-cp312-win_amd64.whl (2449.3 MB)\n",
      "Collecting torchvision\n",
      "  Using cached https://download.pytorch.org/whl/cu121/torchvision-0.20.1%2Bcu121-cp312-cp312-win_amd64.whl (6.1 MB)\n",
      "Collecting torchaudio\n",
      "  Using cached https://download.pytorch.org/whl/cu121/torchaudio-2.5.1%2Bcu121-cp312-cp312-win_amd64.whl (4.1 MB)\n",
      "Collecting filelock (from torch)\n",
      "  Obtaining dependency information for filelock from https://download.pytorch.org/whl/filelock-3.13.1-py3-none-any.whl.metadata\n",
      "  Using cached https://download.pytorch.org/whl/filelock-3.13.1-py3-none-any.whl.metadata (2.8 kB)\n",
      "Collecting typing-extensions>=4.8.0 (from torch)\n",
      "  Obtaining dependency information for typing-extensions>=4.8.0 from https://download.pytorch.org/whl/typing_extensions-4.12.2-py3-none-any.whl.metadata\n",
      "  Using cached https://download.pytorch.org/whl/typing_extensions-4.12.2-py3-none-any.whl.metadata (3.0 kB)\n",
      "Collecting networkx (from torch)\n",
      "  Obtaining dependency information for networkx from https://download.pytorch.org/whl/networkx-3.3-py3-none-any.whl.metadata\n",
      "  Using cached https://download.pytorch.org/whl/networkx-3.3-py3-none-any.whl.metadata (5.1 kB)\n",
      "Collecting jinja2 (from torch)\n",
      "  Obtaining dependency information for jinja2 from https://download.pytorch.org/whl/Jinja2-3.1.4-py3-none-any.whl.metadata\n",
      "  Using cached https://download.pytorch.org/whl/Jinja2-3.1.4-py3-none-any.whl.metadata (2.6 kB)\n",
      "Collecting fsspec (from torch)\n",
      "  Obtaining dependency information for fsspec from https://download.pytorch.org/whl/fsspec-2024.6.1-py3-none-any.whl.metadata\n",
      "  Using cached https://download.pytorch.org/whl/fsspec-2024.6.1-py3-none-any.whl.metadata (11 kB)\n",
      "Collecting setuptools (from torch)\n",
      "  Obtaining dependency information for setuptools from https://download.pytorch.org/whl/setuptools-70.2.0-py3-none-any.whl.metadata\n",
      "  Using cached https://download.pytorch.org/whl/setuptools-70.2.0-py3-none-any.whl.metadata (5.8 kB)\n",
      "Collecting sympy==1.13.1 (from torch)\n",
      "  Using cached https://download.pytorch.org/whl/sympy-1.13.1-py3-none-any.whl (6.2 MB)\n",
      "Collecting mpmath<1.4,>=1.1.0 (from sympy==1.13.1->torch)\n",
      "  Using cached https://download.pytorch.org/whl/mpmath-1.3.0-py3-none-any.whl (536 kB)\n",
      "Collecting numpy (from torchvision)\n",
      "  Obtaining dependency information for numpy from https://download.pytorch.org/whl/numpy-2.1.2-cp312-cp312-win_amd64.whl.metadata\n",
      "  Using cached https://download.pytorch.org/whl/numpy-2.1.2-cp312-cp312-win_amd64.whl.metadata (59 kB)\n",
      "Collecting pillow!=8.3.*,>=5.3.0 (from torchvision)\n",
      "  Obtaining dependency information for pillow!=8.3.*,>=5.3.0 from https://download.pytorch.org/whl/pillow-11.0.0-cp312-cp312-win_amd64.whl.metadata\n",
      "  Using cached https://download.pytorch.org/whl/pillow-11.0.0-cp312-cp312-win_amd64.whl.metadata (9.3 kB)\n",
      "Collecting MarkupSafe>=2.0 (from jinja2->torch)\n",
      "  Using cached https://download.pytorch.org/whl/MarkupSafe-2.1.5-cp312-cp312-win_amd64.whl (17 kB)\n",
      "Using cached https://download.pytorch.org/whl/pillow-11.0.0-cp312-cp312-win_amd64.whl (2.6 MB)\n",
      "Using cached https://download.pytorch.org/whl/typing_extensions-4.12.2-py3-none-any.whl (37 kB)\n",
      "Using cached https://download.pytorch.org/whl/filelock-3.13.1-py3-none-any.whl (11 kB)\n",
      "Using cached https://download.pytorch.org/whl/fsspec-2024.6.1-py3-none-any.whl (177 kB)\n",
      "Using cached https://download.pytorch.org/whl/Jinja2-3.1.4-py3-none-any.whl (133 kB)\n",
      "Using cached https://download.pytorch.org/whl/networkx-3.3-py3-none-any.whl (1.7 MB)\n",
      "Using cached https://download.pytorch.org/whl/numpy-2.1.2-cp312-cp312-win_amd64.whl (12.6 MB)\n",
      "Using cached https://download.pytorch.org/whl/setuptools-70.2.0-py3-none-any.whl (930 kB)\n",
      "Installing collected packages: mpmath, typing-extensions, sympy, setuptools, pillow, numpy, networkx, MarkupSafe, fsspec, filelock, jinja2, torch, torchvision, torchaudio\n",
      "Successfully installed MarkupSafe-2.1.5 filelock-3.13.1 fsspec-2024.6.1 jinja2-3.1.4 mpmath-1.3.0 networkx-3.3 numpy-2.1.2 pillow-11.0.0 setuptools-70.2.0 sympy-1.13.1 torch-2.5.1+cu121 torchaudio-2.5.1+cu121 torchvision-0.20.1+cu121 typing-extensions-4.12.2\n",
      "Note: you may need to restart the kernel to use updated packages.\n"
     ]
    },
    {
     "name": "stderr",
     "output_type": "stream",
     "text": [
      "WARNING: There was an error checking the latest version of pip.\n"
     ]
    }
   ],
   "source": [
    "%pip install torch torchvision torchaudio --index-url https://download.pytorch.org/whl/cu121"
   ]
  },
  {
   "cell_type": "code",
   "execution_count": 11,
   "id": "ce9f6bc4",
   "metadata": {},
   "outputs": [],
   "source": [
    "#py -3.12 -m pip install torch torchvision torchaudio --index-url https://download.pytorch.org/whl/cu121\n",
    "import torch\n",
    "import torchvision\n",
    "import torchvision.transforms as transforms"
   ]
  },
  {
   "cell_type": "code",
   "execution_count": null,
   "id": "a532e755",
   "metadata": {},
   "outputs": [
    {
     "name": "stdout",
     "output_type": "stream",
     "text": [
      "Files already downloaded and verified\n",
      "Files already downloaded and verified\n"
     ]
    }
   ],
   "source": [
    "#get dataset as PILImage and transform to Tensor\n",
    "#then centralize from [0, 1] to [-1, 1] with Normalization\n",
    "\n",
    "transform = transforms.Compose(\n",
    "    [\n",
    "        transforms.ToTensor(),\n",
    "        transforms.Normalize((0.5, 0.5, 0.5), (0.5, 0.5, 0.5)) #mean e dev std for R, G and B channels\n",
    "        #x_new = (x - 0.5)/0.5 --> x_new = 2x - 1 \n",
    "    ]\n",
    ")\n",
    "\n",
    "batch_size = 4\n",
    "\n",
    "trainset = torchvision.datasets.CIFAR10(\n",
    "    root='./data', train=True, download=True, transform=transform\n",
    ")\n",
    "train_loader = torch.utils.data.DataLoader(trainset, batch_size = batch_size, shuffle = True, num_workers = 2) #get batches from dataset, already splitted in train_loader and shuffled at each epoch\n",
    "\n",
    "testset = torchvision.datasets.CIFAR10(root='./data', download=True, train=False, transform=transform)\n",
    "test_loader = torch.utils.data.DataLoader(testset, batch_size=batch_size, shuffle=False, num_workers = 2)\n",
    "\n",
    "classes = ('plane', 'car', 'bird', 'cat',\n",
    "           'deer', 'dog', 'frog', 'horse', 'ship', 'truck')"
   ]
  },
  {
   "cell_type": "code",
   "execution_count": 14,
   "id": "a9c84f80",
   "metadata": {},
   "outputs": [
    {
     "data": {
      "image/png": "[encoded data removed]",
      "text/plain": [
       "<Figure size 640x480 with 1 Axes>"
      ]
     },
     "metadata": {},
     "output_type": "display_data"
    },
    {
     "name": "stdout",
     "output_type": "stream",
     "text": [
      "dog\tplane\thorse\tcat\t\n"
     ]
    }
   ],
   "source": [
    "#visualize image of training set\n",
    "\n",
    "import matplotlib.pyplot as plt\n",
    "import numpy as np\n",
    "\n",
    "def imshow(img):\n",
    "    img = img /2 + 0.5 #unnormalize\n",
    "    npimg = img.numpy() #from tensor to array\n",
    "    plt.imshow(np.transpose(npimg, (1, 2, 0))) #da channel-first a channel-last di matplotlib\n",
    "    plt.show()\n",
    "\n",
    "#get random images from traing set\n",
    "dataiter = iter(train_loader)\n",
    "images, labels = next(dataiter)\n",
    "\n",
    "#show images\n",
    "imshow(torchvision.utils.make_grid(images))\n",
    "#print labels\n",
    "print(''.join(f'{classes[labels[j]]:.5s}\\t' for j in range(batch_size)))"
   ]
  },
  {
   "cell_type": "markdown",
   "id": "e1f58e02",
   "metadata": {},
   "source": [
    "# 2) Define CNN"
   ]
  },
  {
   "cell_type": "code",
   "execution_count": 15,
   "id": "0c5f76e4",
   "metadata": {},
   "outputs": [],
   "source": [
    "import torch.nn as nn\n",
    "import torch.nn.functional as F\n",
    "\n",
    "class ConvolutionalNeuralNetwork(nn.Module):\n",
    "    def __init__(self): #class torch.nn.Conv2d(in_channels, out_channels, kernel_size, stride=1, padding=0, dilation=1, groups=1, bias=True, padding_mode='zeros', device=None, dtype=None)\n",
    "        super().__init__()\n",
    "        self.conv1 = nn.Conv2d(3, 6, 5) #from 3 channels of input data, through 6 filters 5x5x3 we construct a feature map of [(N-5)/stride]+1 (here stride 1) --> 28x28x3\n",
    "        self.pool = nn.MaxPool2d(2, 2) #pool 2x2 stride 2 --> halfening the feature map --> 14x14x6\n",
    "        self.conv2 = nn.Conv2d(6, 16, 5) #6 channels in input now, and 16 filters 5x5x16 --> 10x10x16\n",
    "        #in forward (dove effettivamente costruisco rete) APPLICO pool 2x2 stride 2 --> halfening the feature map --> 5x5x16\n",
    "        self.fc1 = nn.Linear(16 * 5 * 5, 120) #120 neurons --> 120 features in output\n",
    "        self.fc2 = nn.Linear(120, 84)\n",
    "        self.fc3 = nn.Linear(84, 10) #10 outputs <--> 10 classes\n",
    "\n",
    "    def forward(self, x):\n",
    "        x = self.pool(F.relu(self.conv1(x))) # x -> conv1 -> relu -> pool\n",
    "        x = self.pool(F.relu(self.conv2(x))) # x -> conv2 -> relu -> pool \n",
    "        #flatten before Linear Layer\n",
    "        x = torch.flatten(x, 1)\n",
    "        #Dopo i due pooling, la shape è (batch_size, 16, 5, 5)\n",
    "        #Devi trasformarla in (batch_size, 400) per la Linear layer\n",
    "        x = F.relu(self.fc1(x))\n",
    "        x = F.relu(self.fc2(x))\n",
    "        out = self.fc3(x) #no activation at the end, but crossentropy loss has softmax inside so we will have 10 probabilities that sum up to 1\n",
    "        return out\n",
    "\n",
    "CNN = ConvolutionalNeuralNetwork()\n"
   ]
  },
  {
   "cell_type": "markdown",
   "id": "cd397363",
   "metadata": {},
   "source": [
    "# 3) Defin Loss and Optimizer"
   ]
  },
  {
   "cell_type": "code",
   "execution_count": 16,
   "id": "e45c6612",
   "metadata": {},
   "outputs": [],
   "source": [
    "from torch import optim\n",
    "\n",
    "loss_funct = nn.CrossEntropyLoss()\n",
    "optimizer = optim.SGD(CNN.parameters(), lr = 0.001, momentum = 0.9)"
   ]
  },
  {
   "cell_type": "markdown",
   "id": "1a1a249c",
   "metadata": {},
   "source": [
    "# 4) Train CNN"
   ]
  },
  {
   "cell_type": "code",
   "execution_count": 38,
   "id": "d3160070",
   "metadata": {},
   "outputs": [
    {
     "name": "stdout",
     "output_type": "stream",
     "text": [
      "Average loss of epoch 1 and batch: 2000: 1.209014\n",
      "Average loss of epoch 1 and batch: 4000: 1.210766\n",
      "Average loss of epoch 1 and batch: 6000: 1.203821\n",
      "Average loss of epoch 1 and batch: 8000: 1.205786\n",
      "Average loss of epoch 1 and batch: 10000: 1.207112\n",
      "Average loss of epoch 1 and batch: 12000: 1.204406\n",
      "Average loss of epoch 2 and batch: 2000: 1.117774\n",
      "Average loss of epoch 2 and batch: 4000: 1.109844\n",
      "Average loss of epoch 2 and batch: 6000: 1.114648\n",
      "Average loss of epoch 2 and batch: 8000: 1.114357\n",
      "Average loss of epoch 2 and batch: 10000: 1.118173\n",
      "Average loss of epoch 2 and batch: 12000: 1.116196\n",
      "Training finished\n"
     ]
    }
   ],
   "source": [
    "n_epochs = 2\n",
    "\n",
    "for epoch in range(n_epochs):\n",
    "    total_loss, tot_samples = 0.0, 0\n",
    "\n",
    "    for i, batch in enumerate(train_loader, 0):\n",
    "        images, targets = batch\n",
    "        tot_samples += images.size(0)\n",
    "\n",
    "        #zeroing grad for optimizer\n",
    "        optimizer.zero_grad()\n",
    "\n",
    "        #make prediciton with forward function on entire batch\n",
    "        preds = CNN(images)\n",
    "\n",
    "        #calculate LOSS\n",
    "        loss = loss_funct(preds, targets) #mean on all images in batch\n",
    "\n",
    "        #perform backprop to calculate gradients\n",
    "        loss.backward()\n",
    "\n",
    "        #update parameters as -lr*gradient\n",
    "        optimizer.step()\n",
    "\n",
    "        #calculate loss\n",
    "        total_loss += loss.item() * images.size(0) #total loss of batch\n",
    "\n",
    "        if i%2000 == 1999: #print every 2000\n",
    "            print(f'Average loss of epoch {epoch+1} and batch: {i+1}: {((total_loss*1.0)/float(tot_samples)):.6f}') \n",
    "\n",
    "    \n",
    "\n",
    "print('Training finished')\n",
    "\n"
   ]
  },
  {
   "cell_type": "markdown",
   "id": "53450b69",
   "metadata": {},
   "source": [
    "# SAVE RESULTS"
   ]
  },
  {
   "cell_type": "code",
   "execution_count": null,
   "id": "f3598458",
   "metadata": {},
   "outputs": [],
   "source": [
    "PATH = './saves.pth'\n",
    "torch.save(CNN.state_dict(), PATH) #state_dict() e un dizionario con i pesi e gli ottimizzatori di ogni layer, accessibili con le chiavi:\n",
    "#conv1.weights, fc1.bias ecc...\n",
    "\n",
    "#!caricare\n",
    "#load = torch.load('saves.pth') \n",
    "#CNN.load_state_dict(load) "
   ]
  },
  {
   "cell_type": "markdown",
   "id": "2ae18e79",
   "metadata": {},
   "source": [
    "# TEST CNN"
   ]
  },
  {
   "cell_type": "code",
   "execution_count": 41,
   "id": "aa63cabc",
   "metadata": {},
   "outputs": [
    {
     "data": {
      "image/png": "[encoded data removed]",
      "text/plain": [
       "<Figure size 640x480 with 1 Axes>"
      ]
     },
     "metadata": {},
     "output_type": "display_data"
    },
    {
     "name": "stdout",
     "output_type": "stream",
     "text": [
      "cat\tcar\tcar\tship\t\n"
     ]
    }
   ],
   "source": [
    "#little sample with imshow\n",
    "#get random images from traing set\n",
    "dataiter = iter(test_loader)\n",
    "images, labels = next(dataiter)\n",
    "\n",
    "#show images\n",
    "imshow(torchvision.utils.make_grid(images))\n",
    "\n",
    "outputs = CNN(images)\n",
    "_, predicted = torch.max(outputs, 1) #take the maximum in a tensor of 1d (class with bigger probability)\n",
    "#print labels\n",
    "print(''.join(f'{classes[predicted[j]]:.5s}\\t' for j in range(batch_size)))\n"
   ]
  },
  {
   "cell_type": "code",
   "execution_count": 44,
   "id": "314872e7",
   "metadata": {},
   "outputs": [
    {
     "name": "stdout",
     "output_type": "stream",
     "text": [
      "accuracy of predictions: 59.82%\n"
     ]
    }
   ],
   "source": [
    "#test on all testset\n",
    "\n",
    "correct = 0\n",
    "total = 0\n",
    "\n",
    "with torch.no_grad(): #forces pytorch to not compute gradients (we don't need them in test)\n",
    "    for batch in test_loader:\n",
    "        images, labels = batch\n",
    "        outputs = CNN(images)\n",
    "        _, predicted = torch.max(outputs, 1)\n",
    "        total += images.size(0)\n",
    "        correct += (predicted == labels).sum().item() \n",
    "\n",
    "print(f'accuracy of predictions: {(100*(1.0*correct)/float(total)):.2f}%')"
   ]
  },
  {
   "cell_type": "markdown",
   "id": "cc4e4b24",
   "metadata": {},
   "source": [
    "# PRINT ACCURACY FOR EACH CLASS"
   ]
  },
  {
   "cell_type": "code",
   "execution_count": 18,
   "id": "8463c385",
   "metadata": {},
   "outputs": [
    {
     "ename": "RuntimeError",
     "evalue": "Input type (torch.FloatTensor) and weight type (torch.cuda.FloatTensor) should be the same or input should be a MKLDNN tensor and weight is a dense tensor",
     "output_type": "error",
     "traceback": [
      "\u001b[31m---------------------------------------------------------------------------\u001b[39m",
      "\u001b[31mRuntimeError\u001b[39m                              Traceback (most recent call last)",
      "\u001b[36mCell\u001b[39m\u001b[36m \u001b[39m\u001b[32mIn[18]\u001b[39m\u001b[32m, line 7\u001b[39m\n\u001b[32m      5\u001b[39m \u001b[38;5;28;01mfor\u001b[39;00m batch \u001b[38;5;129;01min\u001b[39;00m test_loader:\n\u001b[32m      6\u001b[39m     images, labels = batch\n\u001b[32m----> \u001b[39m\u001b[32m7\u001b[39m     outputs = \u001b[43mCNN\u001b[49m\u001b[43m(\u001b[49m\u001b[43mimages\u001b[49m\u001b[43m)\u001b[49m\n\u001b[32m      8\u001b[39m     _, predicted = torch.max(outputs, \u001b[32m1\u001b[39m)\n\u001b[32m      9\u001b[39m     \u001b[38;5;28;01mfor\u001b[39;00m (label, pred) \u001b[38;5;129;01min\u001b[39;00m \u001b[38;5;28mzip\u001b[39m(labels, predicted):\n",
      "\u001b[36mFile \u001b[39m\u001b[32mc:\\Users\\Utente\\OneDrive - Politecnico di Torino\\ADVANCED_ML\\PYTORCH\\venv\\Lib\\site-packages\\torch\\nn\\modules\\module.py:1736\u001b[39m, in \u001b[36mModule._wrapped_call_impl\u001b[39m\u001b[34m(self, *args, **kwargs)\u001b[39m\n\u001b[32m   1734\u001b[39m     \u001b[38;5;28;01mreturn\u001b[39;00m \u001b[38;5;28mself\u001b[39m._compiled_call_impl(*args, **kwargs)  \u001b[38;5;66;03m# type: ignore[misc]\u001b[39;00m\n\u001b[32m   1735\u001b[39m \u001b[38;5;28;01melse\u001b[39;00m:\n\u001b[32m-> \u001b[39m\u001b[32m1736\u001b[39m     \u001b[38;5;28;01mreturn\u001b[39;00m \u001b[38;5;28;43mself\u001b[39;49m\u001b[43m.\u001b[49m\u001b[43m_call_impl\u001b[49m\u001b[43m(\u001b[49m\u001b[43m*\u001b[49m\u001b[43margs\u001b[49m\u001b[43m,\u001b[49m\u001b[43m \u001b[49m\u001b[43m*\u001b[49m\u001b[43m*\u001b[49m\u001b[43mkwargs\u001b[49m\u001b[43m)\u001b[49m\n",
      "\u001b[36mFile \u001b[39m\u001b[32mc:\\Users\\Utente\\OneDrive - Politecnico di Torino\\ADVANCED_ML\\PYTORCH\\venv\\Lib\\site-packages\\torch\\nn\\modules\\module.py:1747\u001b[39m, in \u001b[36mModule._call_impl\u001b[39m\u001b[34m(self, *args, **kwargs)\u001b[39m\n\u001b[32m   1742\u001b[39m \u001b[38;5;66;03m# If we don't have any hooks, we want to skip the rest of the logic in\u001b[39;00m\n\u001b[32m   1743\u001b[39m \u001b[38;5;66;03m# this function, and just call forward.\u001b[39;00m\n\u001b[32m   1744\u001b[39m \u001b[38;5;28;01mif\u001b[39;00m \u001b[38;5;129;01mnot\u001b[39;00m (\u001b[38;5;28mself\u001b[39m._backward_hooks \u001b[38;5;129;01mor\u001b[39;00m \u001b[38;5;28mself\u001b[39m._backward_pre_hooks \u001b[38;5;129;01mor\u001b[39;00m \u001b[38;5;28mself\u001b[39m._forward_hooks \u001b[38;5;129;01mor\u001b[39;00m \u001b[38;5;28mself\u001b[39m._forward_pre_hooks\n\u001b[32m   1745\u001b[39m         \u001b[38;5;129;01mor\u001b[39;00m _global_backward_pre_hooks \u001b[38;5;129;01mor\u001b[39;00m _global_backward_hooks\n\u001b[32m   1746\u001b[39m         \u001b[38;5;129;01mor\u001b[39;00m _global_forward_hooks \u001b[38;5;129;01mor\u001b[39;00m _global_forward_pre_hooks):\n\u001b[32m-> \u001b[39m\u001b[32m1747\u001b[39m     \u001b[38;5;28;01mreturn\u001b[39;00m \u001b[43mforward_call\u001b[49m\u001b[43m(\u001b[49m\u001b[43m*\u001b[49m\u001b[43margs\u001b[49m\u001b[43m,\u001b[49m\u001b[43m \u001b[49m\u001b[43m*\u001b[49m\u001b[43m*\u001b[49m\u001b[43mkwargs\u001b[49m\u001b[43m)\u001b[49m\n\u001b[32m   1749\u001b[39m result = \u001b[38;5;28;01mNone\u001b[39;00m\n\u001b[32m   1750\u001b[39m called_always_called_hooks = \u001b[38;5;28mset\u001b[39m()\n",
      "\u001b[36mCell\u001b[39m\u001b[36m \u001b[39m\u001b[32mIn[15]\u001b[39m\u001b[32m, line 16\u001b[39m, in \u001b[36mConvolutionalNeuralNetwork.forward\u001b[39m\u001b[34m(self, x)\u001b[39m\n\u001b[32m     15\u001b[39m \u001b[38;5;28;01mdef\u001b[39;00m\u001b[38;5;250m \u001b[39m\u001b[34mforward\u001b[39m(\u001b[38;5;28mself\u001b[39m, x):\n\u001b[32m---> \u001b[39m\u001b[32m16\u001b[39m     x = \u001b[38;5;28mself\u001b[39m.pool(F.relu(\u001b[38;5;28;43mself\u001b[39;49m\u001b[43m.\u001b[49m\u001b[43mconv1\u001b[49m\u001b[43m(\u001b[49m\u001b[43mx\u001b[49m\u001b[43m)\u001b[49m)) \u001b[38;5;66;03m# x -> conv1 -> relu -> pool\u001b[39;00m\n\u001b[32m     17\u001b[39m     x = \u001b[38;5;28mself\u001b[39m.pool(F.relu(\u001b[38;5;28mself\u001b[39m.conv2(x))) \u001b[38;5;66;03m# x -> conv2 -> relu -> pool \u001b[39;00m\n\u001b[32m     18\u001b[39m     \u001b[38;5;66;03m#flatten before Linear Layer\u001b[39;00m\n",
      "\u001b[36mFile \u001b[39m\u001b[32mc:\\Users\\Utente\\OneDrive - Politecnico di Torino\\ADVANCED_ML\\PYTORCH\\venv\\Lib\\site-packages\\torch\\nn\\modules\\module.py:1736\u001b[39m, in \u001b[36mModule._wrapped_call_impl\u001b[39m\u001b[34m(self, *args, **kwargs)\u001b[39m\n\u001b[32m   1734\u001b[39m     \u001b[38;5;28;01mreturn\u001b[39;00m \u001b[38;5;28mself\u001b[39m._compiled_call_impl(*args, **kwargs)  \u001b[38;5;66;03m# type: ignore[misc]\u001b[39;00m\n\u001b[32m   1735\u001b[39m \u001b[38;5;28;01melse\u001b[39;00m:\n\u001b[32m-> \u001b[39m\u001b[32m1736\u001b[39m     \u001b[38;5;28;01mreturn\u001b[39;00m \u001b[38;5;28;43mself\u001b[39;49m\u001b[43m.\u001b[49m\u001b[43m_call_impl\u001b[49m\u001b[43m(\u001b[49m\u001b[43m*\u001b[49m\u001b[43margs\u001b[49m\u001b[43m,\u001b[49m\u001b[43m \u001b[49m\u001b[43m*\u001b[49m\u001b[43m*\u001b[49m\u001b[43mkwargs\u001b[49m\u001b[43m)\u001b[49m\n",
      "\u001b[36mFile \u001b[39m\u001b[32mc:\\Users\\Utente\\OneDrive - Politecnico di Torino\\ADVANCED_ML\\PYTORCH\\venv\\Lib\\site-packages\\torch\\nn\\modules\\module.py:1747\u001b[39m, in \u001b[36mModule._call_impl\u001b[39m\u001b[34m(self, *args, **kwargs)\u001b[39m\n\u001b[32m   1742\u001b[39m \u001b[38;5;66;03m# If we don't have any hooks, we want to skip the rest of the logic in\u001b[39;00m\n\u001b[32m   1743\u001b[39m \u001b[38;5;66;03m# this function, and just call forward.\u001b[39;00m\n\u001b[32m   1744\u001b[39m \u001b[38;5;28;01mif\u001b[39;00m \u001b[38;5;129;01mnot\u001b[39;00m (\u001b[38;5;28mself\u001b[39m._backward_hooks \u001b[38;5;129;01mor\u001b[39;00m \u001b[38;5;28mself\u001b[39m._backward_pre_hooks \u001b[38;5;129;01mor\u001b[39;00m \u001b[38;5;28mself\u001b[39m._forward_hooks \u001b[38;5;129;01mor\u001b[39;00m \u001b[38;5;28mself\u001b[39m._forward_pre_hooks\n\u001b[32m   1745\u001b[39m         \u001b[38;5;129;01mor\u001b[39;00m _global_backward_pre_hooks \u001b[38;5;129;01mor\u001b[39;00m _global_backward_hooks\n\u001b[32m   1746\u001b[39m         \u001b[38;5;129;01mor\u001b[39;00m _global_forward_hooks \u001b[38;5;129;01mor\u001b[39;00m _global_forward_pre_hooks):\n\u001b[32m-> \u001b[39m\u001b[32m1747\u001b[39m     \u001b[38;5;28;01mreturn\u001b[39;00m \u001b[43mforward_call\u001b[49m\u001b[43m(\u001b[49m\u001b[43m*\u001b[49m\u001b[43margs\u001b[49m\u001b[43m,\u001b[49m\u001b[43m \u001b[49m\u001b[43m*\u001b[49m\u001b[43m*\u001b[49m\u001b[43mkwargs\u001b[49m\u001b[43m)\u001b[49m\n\u001b[32m   1749\u001b[39m result = \u001b[38;5;28;01mNone\u001b[39;00m\n\u001b[32m   1750\u001b[39m called_always_called_hooks = \u001b[38;5;28mset\u001b[39m()\n",
      "\u001b[36mFile \u001b[39m\u001b[32mc:\\Users\\Utente\\OneDrive - Politecnico di Torino\\ADVANCED_ML\\PYTORCH\\venv\\Lib\\site-packages\\torch\\nn\\modules\\conv.py:554\u001b[39m, in \u001b[36mConv2d.forward\u001b[39m\u001b[34m(self, input)\u001b[39m\n\u001b[32m    553\u001b[39m \u001b[38;5;28;01mdef\u001b[39;00m\u001b[38;5;250m \u001b[39m\u001b[34mforward\u001b[39m(\u001b[38;5;28mself\u001b[39m, \u001b[38;5;28minput\u001b[39m: Tensor) -> Tensor:\n\u001b[32m--> \u001b[39m\u001b[32m554\u001b[39m     \u001b[38;5;28;01mreturn\u001b[39;00m \u001b[38;5;28;43mself\u001b[39;49m\u001b[43m.\u001b[49m\u001b[43m_conv_forward\u001b[49m\u001b[43m(\u001b[49m\u001b[38;5;28;43minput\u001b[39;49m\u001b[43m,\u001b[49m\u001b[43m \u001b[49m\u001b[38;5;28;43mself\u001b[39;49m\u001b[43m.\u001b[49m\u001b[43mweight\u001b[49m\u001b[43m,\u001b[49m\u001b[43m \u001b[49m\u001b[38;5;28;43mself\u001b[39;49m\u001b[43m.\u001b[49m\u001b[43mbias\u001b[49m\u001b[43m)\u001b[49m\n",
      "\u001b[36mFile \u001b[39m\u001b[32mc:\\Users\\Utente\\OneDrive - Politecnico di Torino\\ADVANCED_ML\\PYTORCH\\venv\\Lib\\site-packages\\torch\\nn\\modules\\conv.py:549\u001b[39m, in \u001b[36mConv2d._conv_forward\u001b[39m\u001b[34m(self, input, weight, bias)\u001b[39m\n\u001b[32m    537\u001b[39m \u001b[38;5;28;01mif\u001b[39;00m \u001b[38;5;28mself\u001b[39m.padding_mode != \u001b[33m\"\u001b[39m\u001b[33mzeros\u001b[39m\u001b[33m\"\u001b[39m:\n\u001b[32m    538\u001b[39m     \u001b[38;5;28;01mreturn\u001b[39;00m F.conv2d(\n\u001b[32m    539\u001b[39m         F.pad(\n\u001b[32m    540\u001b[39m             \u001b[38;5;28minput\u001b[39m, \u001b[38;5;28mself\u001b[39m._reversed_padding_repeated_twice, mode=\u001b[38;5;28mself\u001b[39m.padding_mode\n\u001b[32m   (...)\u001b[39m\u001b[32m    547\u001b[39m         \u001b[38;5;28mself\u001b[39m.groups,\n\u001b[32m    548\u001b[39m     )\n\u001b[32m--> \u001b[39m\u001b[32m549\u001b[39m \u001b[38;5;28;01mreturn\u001b[39;00m \u001b[43mF\u001b[49m\u001b[43m.\u001b[49m\u001b[43mconv2d\u001b[49m\u001b[43m(\u001b[49m\n\u001b[32m    550\u001b[39m \u001b[43m    \u001b[49m\u001b[38;5;28;43minput\u001b[39;49m\u001b[43m,\u001b[49m\u001b[43m \u001b[49m\u001b[43mweight\u001b[49m\u001b[43m,\u001b[49m\u001b[43m \u001b[49m\u001b[43mbias\u001b[49m\u001b[43m,\u001b[49m\u001b[43m \u001b[49m\u001b[38;5;28;43mself\u001b[39;49m\u001b[43m.\u001b[49m\u001b[43mstride\u001b[49m\u001b[43m,\u001b[49m\u001b[43m \u001b[49m\u001b[38;5;28;43mself\u001b[39;49m\u001b[43m.\u001b[49m\u001b[43mpadding\u001b[49m\u001b[43m,\u001b[49m\u001b[43m \u001b[49m\u001b[38;5;28;43mself\u001b[39;49m\u001b[43m.\u001b[49m\u001b[43mdilation\u001b[49m\u001b[43m,\u001b[49m\u001b[43m \u001b[49m\u001b[38;5;28;43mself\u001b[39;49m\u001b[43m.\u001b[49m\u001b[43mgroups\u001b[49m\n\u001b[32m    551\u001b[39m \u001b[43m\u001b[49m\u001b[43m)\u001b[49m\n",
      "\u001b[31mRuntimeError\u001b[39m: Input type (torch.FloatTensor) and weight type (torch.cuda.FloatTensor) should be the same or input should be a MKLDNN tensor and weight is a dense tensor"
     ]
    }
   ],
   "source": [
    "correct_pred = {classname: 0 for classname in classes}\n",
    "total_pred = {classname: 0 for classname in classes}\n",
    "\n",
    "with torch.no_grad():\n",
    "    for batch in test_loader:\n",
    "        images, labels = batch\n",
    "        outputs = CNN(images)\n",
    "        _, predicted = torch.max(outputs, 1)\n",
    "        for (label, pred) in zip(labels, predicted):\n",
    "            total_pred[classes[label]] += 1\n",
    "            if label == pred:\n",
    "                correct_pred[classes[label]] += 1\n",
    "\n",
    "for classname in classes:\n",
    "    print(f'accuracy for {classname}: {(100*(1.0*correct_pred[classname])/float(total_pred[classname])):.2f}%')\n"
   ]
  },
  {
   "cell_type": "markdown",
   "id": "ea70eac1",
   "metadata": {},
   "source": [
    "# TRAINING ON GPU"
   ]
  },
  {
   "cell_type": "code",
   "execution_count": 17,
   "id": "d1467387",
   "metadata": {},
   "outputs": [
    {
     "name": "stdout",
     "output_type": "stream",
     "text": [
      "Average loss of epoch 1 and batch: 2000: 2.201817\n",
      "Average loss of epoch 1 and batch: 4000: 2.045355\n",
      "Average loss of epoch 1 and batch: 6000: 1.919368\n",
      "Average loss of epoch 1 and batch: 8000: 1.831048\n",
      "Average loss of epoch 1 and batch: 10000: 1.764981\n",
      "Average loss of epoch 1 and batch: 12000: 1.717074\n",
      "Average loss of epoch 2 and batch: 2000: 1.407266\n",
      "Average loss of epoch 2 and batch: 4000: 1.393326\n",
      "Average loss of epoch 2 and batch: 6000: 1.381396\n",
      "Average loss of epoch 2 and batch: 8000: 1.372020\n",
      "Average loss of epoch 2 and batch: 10000: 1.359388\n",
      "Average loss of epoch 2 and batch: 12000: 1.344284\n",
      "Training finished\n"
     ]
    }
   ],
   "source": [
    "n_epochs = 2\n",
    "CNN = CNN.cuda()\n",
    "# or device = torch.device('cuda:0' if torch.cuda.is_available() else 'cpu')\n",
    "#CNN.to(device)\n",
    "\n",
    "for epoch in range(n_epochs):\n",
    "    total_loss, tot_samples = 0.0, 0\n",
    "\n",
    "    for i, batch in enumerate(train_loader, 0):\n",
    "        images, targets = batch\n",
    "        images, targets = images.cuda(), targets.cuda()\n",
    "        tot_samples += images.size(0)\n",
    "\n",
    "        #zeroing grad for optimizer\n",
    "        optimizer.zero_grad()\n",
    "\n",
    "        #make prediciton with forward function on entire batch\n",
    "        preds = CNN(images)\n",
    "\n",
    "        #calculate LOSS\n",
    "        loss = loss_funct(preds, targets) #mean on all images in batch\n",
    "\n",
    "        #perform backprop to calculate gradients\n",
    "        loss.backward()\n",
    "\n",
    "        #update parameters as -lr*gradient\n",
    "        optimizer.step()\n",
    "\n",
    "        #calculate loss\n",
    "        total_loss += loss.item() * images.size(0) #total loss of batch\n",
    "\n",
    "        if i%2000 == 1999: #print every 2000\n",
    "            print(f'Average loss of epoch {epoch+1} and batch: {i+1}: {((total_loss*1.0)/float(tot_samples)):.6f}') \n",
    "\n",
    "    \n",
    "\n",
    "print('Training finished')\n",
    "\n"
   ]
  },
  {
   "cell_type": "code",
   "execution_count": 20,
   "id": "b9bc27be",
   "metadata": {},
   "outputs": [
    {
     "name": "stdout",
     "output_type": "stream",
     "text": [
      "accuracy for plane: 63.00%\n",
      "accuracy for car: 69.60%\n",
      "accuracy for bird: 28.90%\n",
      "accuracy for cat: 36.30%\n",
      "accuracy for deer: 50.10%\n",
      "accuracy for dog: 50.40%\n",
      "accuracy for frog: 65.40%\n",
      "accuracy for horse: 66.30%\n",
      "accuracy for ship: 75.90%\n",
      "accuracy for truck: 52.10%\n"
     ]
    }
   ],
   "source": [
    "correct_pred = {classname: 0 for classname in classes}\n",
    "total_pred = {classname: 0 for classname in classes}\n",
    "\n",
    "with torch.no_grad():\n",
    "    for batch in test_loader:\n",
    "        images, labels = batch\n",
    "        images, labels = images.cuda(), labels.cuda()\n",
    "        outputs = CNN(images)\n",
    "        _, predicted = torch.max(outputs, 1)\n",
    "        for (label, pred) in zip(labels, predicted):\n",
    "            total_pred[classes[label]] += 1\n",
    "            if label == pred:\n",
    "                correct_pred[classes[label]] += 1\n",
    "\n",
    "for classname in classes:\n",
    "    print(f'accuracy for {classname}: {(100*(1.0*correct_pred[classname])/float(total_pred[classname])):.2f}%')\n"
   ]
  }
 ],
 "metadata": {
  "kernelspec": {
   "display_name": "venv",
   "language": "python",
   "name": "python3"
  },
  "language_info": {
   "codemirror_mode": {
    "name": "ipython",
    "version": 3
   },
   "file_extension": ".py",
   "mimetype": "text/x-python",
   "name": "python",
   "nbconvert_exporter": "python",
   "pygments_lexer": "ipython3",
   "version": "3.12.0"
  }
 },
 "nbformat": 4,
 "nbformat_minor": 5
}
