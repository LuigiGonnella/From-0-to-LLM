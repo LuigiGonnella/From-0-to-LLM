{
 "cells": [
  {
   "cell_type": "markdown",
   "metadata": {},
   "source": [
    "## Quantization in Large Language Models"
   ]
  },
  {
   "cell_type": "markdown",
   "metadata": {},
   "source": [
    "### **Introduction to Quantization**\n",
    "\n",
    "Quantization is a process used to reduce the memory requirements and computational complexity of large machine learning models. By representing model parameters with lower-precision values, quantization makes it possible to run models more efficiently on devices with limited memory and computational resources.\n",
    "\n",
    "For large language models (LLMs), quantization can:\n",
    "- **Reduce Memory Usage:** Lower-precision data types (such as int8) use less memory than higher-precision types (like float32), allowing models to fit into memory-constrained environments.\n",
    "- **Improve Inference Speed:** By using simpler operations on smaller data types, quantization can reduce the time it takes for a model to process inputs and generate outputs.\n",
    "- **Preserve Accuracy:** Quantization is carefully designed to minimize the impact on model accuracy, though a trade-off often exists between precision and efficiency.\n",
    "\n",
    "We will focus on Post-Training Quantization (PTQ), a quantization technique that applies quantization to a pre-trained model. PTQ is a popular method for quantizing large language models because it can be applied to a wide range of models that we may want to use in inference mode. By contrast, quantization-aware training (QAT) requires retraining the model with quantization in mind, which can be more complex and time-consuming.\n",
    "\n",
    "We will first get a general understanding of quantization by manually implementing two commonly adopted approaches: absmax and minmax (or zero-point). \n",
    "\n",
    "Next, we will explore two different ways (one using PyTorch, the other using HuggingFace) to run a **dynamic quantization** (i.e., PTQ where only the weights are quantized, and not the activations). "
   ]
  },
  {
   "cell_type": "markdown",
   "metadata": {},
   "source": [
    "## 1. Absmax and Minmax Quantization\n",
    "\n",
    "The goal of quantization is, remember, mapping continuos values (e.g., float32) into a discrete set of values (e.g., int8). \n",
    "\n",
    "So let's create a matrix $W$ and a vector $x$ to be quantized. Let's initialize them randomly (but, just to see what happens, let's set W[0,0] and x[0] = 0)."
   ]
  },
  {
   "cell_type": "code",
   "execution_count": 1,
   "metadata": {},
   "outputs": [],
   "source": [
    "import torch\n",
    "\n",
    "torch.random.manual_seed(0)\n",
    "\n",
    "n_rows = 3\n",
    "n_cols = 5\n",
    "\n",
    "W = torch.randn(n_rows, n_cols)\n",
    "x = torch.randn(n_cols)\n",
    "\n",
    "W[0,0] = 0\n",
    "x[0] = 0"
   ]
  },
  {
   "cell_type": "markdown",
   "metadata": {},
   "source": [
    "Let's first compute the matrix multiplication to observe the result. This is the operation that we typically want to execute, and that we want to quantize."
   ]
  },
  {
   "cell_type": "markdown",
   "metadata": {},
   "source": [
    "We will quantize $W$ and $x$ separately, and then multiply them together. Finally, we will need to dequantize the result to compare it with the original result."
   ]
  },
  {
   "cell_type": "code",
   "execution_count": 2,
   "metadata": {},
   "outputs": [
    {
     "name": "stdout",
     "output_type": "stream",
     "text": [
      "tensor([0.4829, 1.3345, 0.2121])\n"
     ]
    }
   ],
   "source": [
    "out = W @ x\n",
    "print(out)"
   ]
  },
  {
   "cell_type": "markdown",
   "metadata": {},
   "source": [
    "## 1.1 Absmax quantization\n",
    "\n",
    "In absmax quantization, we use a symmetric range around 0. This means that we need to identify the maximum absolute value in the matrix $W$ and the vector $x$.\n",
    "\n",
    "We define a function `absmax_quantize` that takes as input any tensor and produces a version of the same tensor, but quantized. "
   ]
  },
  {
   "cell_type": "code",
   "execution_count": 3,
   "metadata": {},
   "outputs": [],
   "source": [
    "def absmax_quantize(W):\n",
    "    # NOTE: we assume that we always map to 8-bit integers\n",
    "\n",
    "    max_value = W.abs().max()\n",
    "    scale = 127/max_value\n",
    "\n",
    "    W_q = (W*scale).round().to(torch.int8)\n",
    "    return W_q, scale"
   ]
  },
  {
   "cell_type": "markdown",
   "metadata": {},
   "source": [
    "Notice, we return both the quantized tensor and the scale factor. The scale factor is used to dequantize the tensor. So we might as well define a dequantize function:"
   ]
  },
  {
   "cell_type": "code",
   "execution_count": 4,
   "metadata": {},
   "outputs": [],
   "source": [
    "def absmax_dequantize(W_q, scale):\n",
    "    dequantized_W = W_q.float()/scale\n",
    "    return dequantized_W"
   ]
  },
  {
   "cell_type": "markdown",
   "metadata": {},
   "source": [
    "Let's get the quantized version of W, and of x. Then, we can check how much we are losing by quantizing the values."
   ]
  },
  {
   "cell_type": "code",
   "execution_count": 5,
   "metadata": {},
   "outputs": [],
   "source": [
    "W_q, scale_W = absmax_quantize(W)\n",
    "x_q, scale_x = absmax_quantize(x)"
   ]
  },
  {
   "cell_type": "code",
   "execution_count": 6,
   "metadata": {},
   "outputs": [
    {
     "name": "stdout",
     "output_type": "stream",
     "text": [
      "tensor([[   0,  -17, -127,   33,  -63],\n",
      "        [ -82,   24,   49,  -42,  -24],\n",
      "        [ -35,   11,  -50,   64,  -62]], dtype=torch.int8)\n",
      "tensor([[ 0.0000, -0.2934, -2.1788,  0.5684, -1.0845],\n",
      "        [-1.3986,  0.4033,  0.8380, -0.7193, -0.4033],\n",
      "        [-0.5966,  0.1820, -0.8567,  1.1006, -1.0712]])\n",
      "tensor([[ 0.0000, -0.2916, -2.1788,  0.5661, -1.0808],\n",
      "        [-1.4068,  0.4117,  0.8406, -0.7205, -0.4117],\n",
      "        [-0.6005,  0.1887, -0.8578,  1.0980, -1.0637]])\n",
      "tensor(0.0039)\n"
     ]
    }
   ],
   "source": [
    "print(W_q)\n",
    "print(W)\n",
    "\n",
    "W_deq = absmax_dequantize(W_q, scale_W)\n",
    "print(W_deq)\n",
    "W_diff = W-W_deq\n",
    "print(W_diff.abs().mean())"
   ]
  },
  {
   "cell_type": "code",
   "execution_count": 7,
   "metadata": {},
   "outputs": [
    {
     "name": "stdout",
     "output_type": "stream",
     "text": [
      "tensor([   0,  -48,   31,  -75, -127], dtype=torch.int8)\n",
      "tensor([ 0.0000, -0.5663,  0.3731, -0.8920, -1.5091])\n",
      "tensor([ 0.0000, -0.5704,  0.3684, -0.8912, -1.5091])\n",
      "tensor(0.0019)\n"
     ]
    }
   ],
   "source": [
    "print(x_q)\n",
    "print(x)\n",
    "\n",
    "x_deq = absmax_dequantize(x_q, scale_x)\n",
    "print(x_deq)\n",
    "x_diff = x-x_deq\n",
    "print(x_diff.abs().mean())"
   ]
  },
  {
   "cell_type": "markdown",
   "metadata": {},
   "source": [
    "Notice that, in both cases, absmax maps the value 0 to 0. This is a good property, as it allows us to represent the zero value without losing any information. This property stems from the symmetry around 0 we imposed.\n",
    "\n",
    "However, do note that we are also \"wasting\" some bits of the range! Can you spot where?\n",
    "\n",
    "Let's now compute the matrix multiplication between W_q and x_q. "
   ]
  },
  {
   "cell_type": "code",
   "execution_count": 8,
   "metadata": {},
   "outputs": [
    {
     "name": "stdout",
     "output_type": "stream",
     "text": [
      "tensor([101, -91, -28], dtype=torch.int8)\n"
     ]
    }
   ],
   "source": [
    "product = W_q @ x_q\n",
    "print(product)"
   ]
  },
  {
   "cell_type": "markdown",
   "metadata": {},
   "source": [
    "Can you see that there's something wrong? Let's see what one of the rows of W_q and x_q contain:"
   ]
  },
  {
   "cell_type": "code",
   "execution_count": 9,
   "metadata": {},
   "outputs": [
    {
     "data": {
      "text/plain": [
       "(tensor([   0,  -17, -127,   33,  -63], dtype=torch.int8),\n",
       " tensor([   0,  -48,   31,  -75, -127], dtype=torch.int8))"
      ]
     },
     "execution_count": 9,
     "metadata": {},
     "output_type": "execute_result"
    }
   ],
   "source": [
    "W_q[0], x_q"
   ]
  },
  {
   "cell_type": "markdown",
   "metadata": {},
   "source": [
    "The dot product of these two vectors definitely isn't what we get as the first number of the matrix multiplication -- i.e. (W_q @ x_q)[0]. Indeed, we can run as int16, and see that the result is quite different:"
   ]
  },
  {
   "cell_type": "code",
   "execution_count": 10,
   "metadata": {},
   "outputs": [
    {
     "name": "stdout",
     "output_type": "stream",
     "text": [
      "tensor([2405, 6565,  996], dtype=torch.int16)\n"
     ]
    }
   ],
   "source": [
    "out_q = W_q.to(torch.int16) @ x_q.to(torch.int16)\n",
    "print(out_q)"
   ]
  },
  {
   "cell_type": "markdown",
   "metadata": {},
   "source": [
    "The result of the dot product overflows the int8 range. This is a well-known problem. Indeed, the accumulation of results, in quantization, is typically done with higher precision than the single values. This is tricky to do in pure Python/PyTorch, but can be done efficiently in other ways.\n",
    "\n",
    "Let's stick to the simple approach for now. "
   ]
  },
  {
   "cell_type": "markdown",
   "metadata": {},
   "source": [
    "To get the correct result, we need to dequantize the result. This is done by multiplying the result by the scale factor of the two operands."
   ]
  },
  {
   "cell_type": "code",
   "execution_count": 11,
   "metadata": {},
   "outputs": [
    {
     "name": "stdout",
     "output_type": "stream",
     "text": [
      "tensor([0.4903, 1.3383, 0.2030])\n",
      "tensor([0.4829, 1.3345, 0.2121])\n"
     ]
    }
   ],
   "source": [
    "out_deq = out_q / (scale_W*scale_x)\n",
    "\n",
    "print(out_deq)\n",
    "print(out)"
   ]
  },
  {
   "cell_type": "markdown",
   "metadata": {},
   "source": [
    "Remember, our goal was `out`. How much did we lose by quantizing and dequantizing?"
   ]
  },
  {
   "cell_type": "code",
   "execution_count": 13,
   "metadata": {},
   "outputs": [
    {
     "data": {
      "text/plain": [
       "tensor(0.0068)"
      ]
     },
     "execution_count": 13,
     "metadata": {},
     "output_type": "execute_result"
    }
   ],
   "source": [
    "out_diff = (out - out_deq).abs().mean()\n",
    "out_diff"
   ]
  },
  {
   "cell_type": "markdown",
   "metadata": {},
   "source": [
    "## 2. Minmax Quantization\n",
    "\n",
    "In minmax quantization, we use the minimum and maximum values in the matrix $W$ and the vector $x$ to define the range. In this way, we get a range that is as tight as possible around the values we are quantizing. This will, however, change the zero value, which will not be mapped to 0 anymore.\n",
    "\n"
   ]
  },
  {
   "cell_type": "code",
   "execution_count": 43,
   "metadata": {},
   "outputs": [],
   "source": [
    "def minmax_quantize(W):\n",
    "\n",
    "    delta = W.max() - W.min()\n",
    "    scale = 255 / delta \n",
    "    zero_point = -(128*W.max() + 127*W.min()) / delta\n",
    "    W_q = (W * scale + zero_point).round().to(torch.int8)\n",
    "    return W_q, scale, zero_point\n",
    "\n",
    "def minmax_dequantize(W_q, scale, zero_point):\n",
    "    return (W_q.float() - zero_point) / scale"
   ]
  },
  {
   "cell_type": "code",
   "execution_count": 44,
   "metadata": {},
   "outputs": [],
   "source": [
    "W_q, scale_W, zero_point_W = minmax_quantize(W)\n",
    "x_q, scale_x, zero_point_x = minmax_quantize(x)"
   ]
  },
  {
   "cell_type": "markdown",
   "metadata": {},
   "source": [
    "Let's see the results for $W$ (same considerations will apply for $x$)."
   ]
  },
  {
   "cell_type": "code",
   "execution_count": 45,
   "metadata": {},
   "outputs": [
    {
     "name": "stdout",
     "output_type": "stream",
     "text": [
      "tensor([[  41,   19, -128,   86,  -43],\n",
      "        [ -67,   73,  107,  -15,   10],\n",
      "        [  -5,   56,  -25,  127,  -42]], dtype=torch.int8)\n",
      "tensor([[ 0.0000, -0.2934, -2.1788,  0.5684, -1.0845],\n",
      "        [-1.3986,  0.4033,  0.8380, -0.7193, -0.4033],\n",
      "        [-0.5966,  0.1820, -0.8567,  1.1006, -1.0712]])\n",
      "tensor([[-0.0054, -0.2883, -2.1788,  0.5733, -1.0857],\n",
      "        [-1.3943,  0.4061,  0.8434, -0.7256, -0.4041],\n",
      "        [-0.5970,  0.1875, -0.8542,  1.1006, -1.0728]])\n",
      "tensor(0.0031)\n",
      "zero point tensor(41.4189)\n"
     ]
    }
   ],
   "source": [
    "print(W_q)\n",
    "print(W)\n",
    "\n",
    "W_deq = minmax_dequantize(W_q, scale_W, zero_point_W)\n",
    "print(W_deq)\n",
    "W_diff = (W - W_deq).abs().mean()\n",
    "print(W_diff)\n",
    "print(\"zero point\", zero_point_W)"
   ]
  },
  {
   "cell_type": "markdown",
   "metadata": {},
   "source": [
    "First, notice that 0 no longer maps to 0! Indeed, it maps to zero_point_W (after rounding). This implies that the dequantization of 0 will no longer be 0. This may be a problem!\n",
    "\n",
    "But, notice that we are using the full range of the int8 values. This means that we are not wasting any bits of the range! (the minimum value is -128, the maximum value is 127). This can also be seen in the average absolute error, which is lower than what we had with absmax.\n",
    "\n",
    "Similarly to what we did before, let's compute the output of the operation, and then dequantize it!"
   ]
  },
  {
   "cell_type": "code",
   "execution_count": 46,
   "metadata": {},
   "outputs": [
    {
     "data": {
      "text/plain": [
       "tensor([-11420,   7877,  -3767], dtype=torch.int16)"
      ]
     },
     "execution_count": 46,
     "metadata": {},
     "output_type": "execute_result"
    }
   ],
   "source": [
    "out_q = W_q.to(torch.int16) @ x_q.to(torch.int16)\n",
    "out_q"
   ]
  },
  {
   "cell_type": "markdown",
   "metadata": {},
   "source": [
    "The dequantification is a bit trickier, in this case. Can you figure out why we need the following operations?\n",
    "\n",
    "Hint: consider the transformation we are applying to each value (value * scale + zero_point). What happens when we compute the dot product?"
   ]
  },
  {
   "cell_type": "code",
   "execution_count": 47,
   "metadata": {},
   "outputs": [],
   "source": [
    "out_deq = (out_q - W.shape[1] * zero_point_W * zero_point_x - W.sum(axis=1) * scale_W * zero_point_x - x.sum() * scale_x * zero_point_W) / (scale_W * scale_x)"
   ]
  },
  {
   "cell_type": "code",
   "execution_count": 48,
   "metadata": {},
   "outputs": [
    {
     "name": "stdout",
     "output_type": "stream",
     "text": [
      "tensor([0.4812, 1.3489, 0.2222])\n",
      "tensor([0.4829, 1.3345, 0.2121])\n",
      "tensor(0.0087)\n"
     ]
    }
   ],
   "source": [
    "print(out_deq)\n",
    "print(out)\n",
    "print((out_deq - out).abs().mean())"
   ]
  },
  {
   "cell_type": "markdown",
   "metadata": {},
   "source": [
    "<span style=\"color:red\">Extra stuff!</span>\n",
    "\n",
    "We could have computed scales and zero points at different granularities (e.g., for each row, or column of $W$). How would that have changed the results? What changes would we have to do to the code?"
   ]
  },
  {
   "cell_type": "markdown",
   "metadata": {},
   "source": [
    "Yes, we could have been computing scale and zero-point fo every column of W (x doesn't change, has only 1 row) and get better results. The code would have been like this:"
   ]
  },
  {
   "cell_type": "code",
   "execution_count": 50,
   "metadata": {},
   "outputs": [],
   "source": [
    "def minmax_quantize_per_column(W):\n",
    "\n",
    "    max_vals = W.max(dim=0).values\n",
    "    min_vals = W.min(dim=0).values\n",
    "    deltas = max_vals - min_vals\n",
    "    scales = 255 / deltas\n",
    "    zero_points = -(128*max_vals + 127*min_vals) / deltas\n",
    "    W_q = (W * scales + zero_points).round().to(torch.int8)\n",
    "    return W_q, scales, zero_points\n",
    "\n",
    "def minmax_dequantize_per_column(W_q, scales, zero_points):\n",
    "    return (W_q.float() - zero_points) / scales"
   ]
  },
  {
   "cell_type": "code",
   "execution_count": 52,
   "metadata": {},
   "outputs": [
    {
     "name": "stdout",
     "output_type": "stream",
     "text": [
      "tensor(0.0046)\n"
     ]
    }
   ],
   "source": [
    "W_q, scales_W, zero_points_W = minmax_quantize_per_column(W)\n",
    "x_q, scales_x, zero_points_x = minmax_quantize_per_column(x)\n",
    "\n",
    "out_q = W_q.to(torch.int16) @ x_q.to(torch.int16)\n",
    "\n",
    "W_deq = minmax_dequantize_per_column(W_q, scales_W, zero_points_W)\n",
    "x_deq = minmax_dequantize(x_q, scale_x, zero_point_x)\n",
    "\n",
    "out_deq = W_deq @ x_deq\n",
    "\n",
    "print((out_deq - out).abs().mean())"
   ]
  },
  {
   "cell_type": "markdown",
   "metadata": {},
   "source": [
    "# Dynamic quantization"
   ]
  },
  {
   "cell_type": "markdown",
   "metadata": {},
   "source": [
    "In this second part, we will apply dynamic quantization by using PyTorch or HuggingFace (with BitsAndBytes). We will quantize both to 8 and to 4 bits, and we will see how that affects LLMs (in terms of memory and speed). "
   ]
  },
  {
   "cell_type": "code",
   "execution_count": 2,
   "metadata": {},
   "outputs": [
    {
     "name": "stderr",
     "output_type": "stream",
     "text": [
      "c:\\Users\\Utente\\AppData\\Local\\Programs\\Python\\Python312\\Lib\\site-packages\\tqdm\\auto.py:21: TqdmWarning: IProgress not found. Please update jupyter and ipywidgets. See https://ipywidgets.readthedocs.io/en/stable/user_install.html\n",
      "  from .autonotebook import tqdm as notebook_tqdm\n"
     ]
    }
   ],
   "source": [
    "import torch\n",
    "import os\n",
    "import time \n",
    "from transformers import AutoTokenizer, AutoModelForCausalLM"
   ]
  },
  {
   "cell_type": "code",
   "execution_count": 3,
   "metadata": {},
   "outputs": [],
   "source": [
    "from huggingface_hub import login\n",
    "\n",
    "# Login to the Hugging Face model hub to be able to upload models\n",
    "with open(\"../hf_token.txt\", \"r\") as f:\n",
    "    token = f.read()\n",
    "    f.close()\n",
    "\n",
    "login(token=token)\n"
   ]
  },
  {
   "cell_type": "markdown",
   "metadata": {},
   "source": [
    "First, let's load our model (Llama 3.2 1B) and let's see some base statistics (memory usage, inference time)."
   ]
  },
  {
   "cell_type": "code",
   "execution_count": 4,
   "metadata": {},
   "outputs": [],
   "source": [
    "model_id = \"meta-llama/Llama-3.2-1B\"\n",
    "model = AutoModelForCausalLM.from_pretrained(model_id)\n",
    "tokenizer = AutoTokenizer.from_pretrained(model_id)\n",
    "\n",
    "tokenizer.pad_token = tokenizer.eos_token"
   ]
  },
  {
   "cell_type": "code",
   "execution_count": 2,
   "metadata": {},
   "outputs": [
    {
     "ename": "NameError",
     "evalue": "name 'os' is not defined",
     "output_type": "error",
     "traceback": [
      "\u001b[31m---------------------------------------------------------------------------\u001b[39m",
      "\u001b[31mNameError\u001b[39m                                 Traceback (most recent call last)",
      "\u001b[36mCell\u001b[39m\u001b[36m \u001b[39m\u001b[32mIn[2]\u001b[39m\u001b[32m, line 8\u001b[39m\n\u001b[32m      5\u001b[39m     os.remove(\u001b[33m\"\u001b[39m\u001b[33mtemp.pth\u001b[39m\u001b[33m\"\u001b[39m)\n\u001b[32m      6\u001b[39m     \u001b[38;5;28;01mreturn\u001b[39;00m size\n\u001b[32m----> \u001b[39m\u001b[32m8\u001b[39m \u001b[38;5;28mprint\u001b[39m(\u001b[33mf\u001b[39m\u001b[33m\"\u001b[39m\u001b[33mModel size before quantization \u001b[39m\u001b[38;5;132;01m{\u001b[39;00m(\u001b[43mget_model_size\u001b[49m\u001b[43m(\u001b[49m\u001b[43mmodel\u001b[49m\u001b[43m)\u001b[49m)\u001b[38;5;132;01m:\u001b[39;00m\u001b[33m.2f\u001b[39m\u001b[38;5;132;01m}\u001b[39;00m\u001b[33m MB\u001b[39m\u001b[33m\"\u001b[39m)\n",
      "\u001b[36mCell\u001b[39m\u001b[36m \u001b[39m\u001b[32mIn[2]\u001b[39m\u001b[32m, line 4\u001b[39m, in \u001b[36mget_model_size\u001b[39m\u001b[34m(model)\u001b[39m\n\u001b[32m      2\u001b[39m \u001b[38;5;250m\u001b[39m\u001b[33;03m\"\"\"Get the size of the model in MB\"\"\"\u001b[39;00m\n\u001b[32m      3\u001b[39m torch.save(model.state_dict(), \u001b[33m\"\u001b[39m\u001b[33mtemp.pth\u001b[39m\u001b[33m\"\u001b[39m)\n\u001b[32m----> \u001b[39m\u001b[32m4\u001b[39m size = \u001b[43mos\u001b[49m.path.getsize(\u001b[33m\"\u001b[39m\u001b[33mtemp.pth\u001b[39m\u001b[33m\"\u001b[39m) / \u001b[32m1e6\u001b[39m  \u001b[38;5;66;03m# size in \"MB\" (technically, it should be 1024**2, but we approximate to 1e6 to get an easier conversion #params <=> MB)\u001b[39;00m\n\u001b[32m      5\u001b[39m os.remove(\u001b[33m\"\u001b[39m\u001b[33mtemp.pth\u001b[39m\u001b[33m\"\u001b[39m)\n\u001b[32m      6\u001b[39m \u001b[38;5;28;01mreturn\u001b[39;00m size\n",
      "\u001b[31mNameError\u001b[39m: name 'os' is not defined"
     ]
    }
   ],
   "source": [
    "def get_model_size(model):\n",
    "    \"\"\"Get the size of the model in MB\"\"\"\n",
    "    torch.save(model.state_dict(), \"temp.pth\")\n",
    "    size = os.path.getsize(\"temp.pth\") / 1e6  # size in \"MB\" (technically, it should be 1024**2, but we approximate to 1e6 to get an easier conversion #params <=> MB)\n",
    "    os.remove(\"temp.pth\")\n",
    "    return size\n",
    "\n",
    "print(f\"Model size before quantization {(get_model_size(model)):.2f} MB\")"
   ]
  },
  {
   "cell_type": "markdown",
   "metadata": {},
   "source": [
    "Wait, wasn't Llama 1B supposed to be 4GB (4 bytes * 1B parameters)? Why do we get ~ 5 GB (i.e., 1.25B parameters)?\n",
    "\n",
    "We are not considering the parameters used in the embedding layer (you can count how many parameters you have in the embedding layer and see that it matches the difference). \n",
    "\n",
    "Additionally, the count does not include the `lm_head`, i.e. the layer used to go from the hidden states to the logits. This is because in Llama (and other models) the `lm_head` is shared with the embedding layer, so it is not counted twice."
   ]
  },
  {
   "cell_type": "code",
   "execution_count": 5,
   "metadata": {},
   "outputs": [
    {
     "name": "stderr",
     "output_type": "stream",
     "text": [
      "Setting `pad_token_id` to `eos_token_id`:128001 for open-end generation.\n"
     ]
    },
    {
     "name": "stdout",
     "output_type": "stream",
     "text": [
      "Baseline model output: The secret of life is to know something about yourself, to be yourself, and to be a little different from the rest of the world. If you are different, you are right. If you are not different, you are wrong. You have to be yourself to be happy.\n",
      "The best way to find yourself is to lose yourself in the service of others.\n",
      "You have to be yourself to be happy.\n",
      "You have to be yourself to be happy.\n",
      "\n",
      "Time taken for baseline model: 31.20296883583069\n"
     ]
    }
   ],
   "source": [
    "text = \"The secret of life is\"\n",
    "# Notice we use a batch of 20 sentences -- we will get better results\n",
    "# on quantized models when processing a batch of inputs\n",
    "text = [text]*20\n",
    "\n",
    "inputs = tokenizer(text, return_tensors='pt')\n",
    "\n",
    "tic = time.time()\n",
    "\n",
    "with torch.no_grad():\n",
    "    baseline_output = model.generate(**inputs, max_new_tokens=100)\n",
    "\n",
    "elapsed_time = time.time() - tic\n",
    "\n",
    "baseline_decoded = tokenizer.decode(baseline_output[0], skip_special_tokens=True)\n",
    "\n",
    "print(\"Baseline model output:\", baseline_decoded)\n",
    "print(\"\\nTime taken for baseline model:\", elapsed_time)"
   ]
  },
  {
   "cell_type": "markdown",
   "metadata": {},
   "source": [
    "Dynamic quantization applies lower precision to model weights and activations at runtime. This method doesn’t require modifications to the model architecture or retraining, which makes it relatively easy to apply.\n",
    "\n",
    "- **Advantages:** \n",
    "  - Quick to implement with minimal changes. No calibration step is needed.\n",
    "\n",
    "- **Limitations:** \n",
    "  - Activations are not pre-quantized, meaning some precision is maintained but at the cost of slightly higher resource use at inference time."
   ]
  },
  {
   "cell_type": "markdown",
   "metadata": {},
   "source": [
    "\n",
    "We use **[TorchAO](https://docs.pytorch.org/ao/stable/api_ref_quantization.html?utm_source=chatgpt.com)** to apply dynamic quantization to a model. TorchAO is the new quantization framework that replaces the deprecated `torch.ao.quantization` APIs.  \n",
    "\n",
    "We can specify a set of layer types to be quantize. Let's stick with Linear layers. We specify the desired type, and off we go!"
   ]
  },
  {
   "cell_type": "code",
   "execution_count": 6,
   "metadata": {},
   "outputs": [
    {
     "name": "stderr",
     "output_type": "stream",
     "text": [
      "c:\\Users\\Utente\\AppData\\Local\\Programs\\Python\\Python312\\Lib\\site-packages\\torch\\__init__.py:1617: UserWarning: Please use the new API settings to control TF32 behavior, such as torch.backends.cudnn.conv.fp32_precision = 'tf32' or torch.backends.cuda.matmul.fp32_precision = 'ieee'. Old settings, e.g, torch.backends.cuda.matmul.allow_tf32 = True, torch.backends.cudnn.allow_tf32 = True, allowTF32CuDNN() and allowTF32CuBLAS() will be deprecated after Pytorch 2.9. Please see https://pytorch.org/docs/main/notes/cuda.html#tensorfloat-32-tf32-on-ampere-and-later-devices (Triggered internally at C:\\actions-runner\\_work\\pytorch\\pytorch\\pytorch\\aten\\src\\ATen\\Context.cpp:85.)\n",
      "  _C._set_float32_matmul_precision(precision)\n"
     ]
    },
    {
     "name": "stdout",
     "output_type": "stream",
     "text": [
      "Model size after quantization 2288.82 MB\n"
     ]
    }
   ],
   "source": [
    "import torch\n",
    "from torchao.quantization import quantize_, Int8DynamicActivationInt8WeightConfig\n",
    "\n",
    "quantize_(\n",
    "    model,\n",
    "    Int8DynamicActivationInt8WeightConfig(),\n",
    "    filter_fn=lambda m, name: isinstance(m, torch.nn.Linear),\n",
    "    device=\"cpu\",\n",
    ")\n",
    "\n",
    "print(f\"Model size after quantization {get_model_size(model):.2f} MB\")"
   ]
  },
  {
   "cell_type": "markdown",
   "metadata": {},
   "source": [
    "Okay -- 2.3GB? Why not 5GB / 4 = 1.25GB? After all, we are going from float32 to int8. \n",
    "\n",
    "That's correct -- technically. Except, we are only encoding linear layers, and not the embedding layer. That means that, of the original 1.25B parameters, we are only quantizing 1B. The rest, in the embedding layer, is kept as float32.\n",
    "\n",
    "If you run the numbers, though, you should still find a problem: 1B * 1 byte + 0.25B * 4 bytes = 2GB. What about the rest? There's one more thing: remember, the `lm_head` was shared with the Embedding layer. However, since it is \"copied\" into a linear layer in Llama, the quantization process will quantize it as well. So that's an extra 0.25B parameters encoded as int8 -- hence 2.3GB.\n",
    "\n",
    "Finally, we could technically also quantize the embeddings (it has been introduced in later versions of PyTorch), but for simplicity we will not do it here (it would require some additional steps)."
   ]
  },
  {
   "cell_type": "code",
   "execution_count": 7,
   "metadata": {},
   "outputs": [
    {
     "data": {
      "text/plain": [
       "LlamaForCausalLM(\n",
       "  (model): LlamaModel(\n",
       "    (embed_tokens): Embedding(128256, 2048)\n",
       "    (layers): ModuleList(\n",
       "      (0-15): 16 x LlamaDecoderLayer(\n",
       "        (self_attn): LlamaAttention(\n",
       "          (q_proj): Linear(in_features=2048, out_features=2048, weight=LinearActivationQuantizedTensor(activation=<function _int8_symm_per_token_reduced_range_quant at 0x0000013CB86062A0>, weight=AffineQuantizedTensor(shape=torch.Size([2048, 2048]), block_size=(1, 2048), device=cpu, _layout=PlainLayout(), tensor_impl_dtype=torch.int8, quant_min=None, quant_max=None)))\n",
       "          (k_proj): Linear(in_features=2048, out_features=512, weight=LinearActivationQuantizedTensor(activation=<function _int8_symm_per_token_reduced_range_quant at 0x0000013CB86062A0>, weight=AffineQuantizedTensor(shape=torch.Size([512, 2048]), block_size=(1, 2048), device=cpu, _layout=PlainLayout(), tensor_impl_dtype=torch.int8, quant_min=None, quant_max=None)))\n",
       "          (v_proj): Linear(in_features=2048, out_features=512, weight=LinearActivationQuantizedTensor(activation=<function _int8_symm_per_token_reduced_range_quant at 0x0000013CB86062A0>, weight=AffineQuantizedTensor(shape=torch.Size([512, 2048]), block_size=(1, 2048), device=cpu, _layout=PlainLayout(), tensor_impl_dtype=torch.int8, quant_min=None, quant_max=None)))\n",
       "          (o_proj): Linear(in_features=2048, out_features=2048, weight=LinearActivationQuantizedTensor(activation=<function _int8_symm_per_token_reduced_range_quant at 0x0000013CB86062A0>, weight=AffineQuantizedTensor(shape=torch.Size([2048, 2048]), block_size=(1, 2048), device=cpu, _layout=PlainLayout(), tensor_impl_dtype=torch.int8, quant_min=None, quant_max=None)))\n",
       "        )\n",
       "        (mlp): LlamaMLP(\n",
       "          (gate_proj): Linear(in_features=2048, out_features=8192, weight=LinearActivationQuantizedTensor(activation=<function _int8_symm_per_token_reduced_range_quant at 0x0000013CB86062A0>, weight=AffineQuantizedTensor(shape=torch.Size([8192, 2048]), block_size=(1, 2048), device=cpu, _layout=PlainLayout(), tensor_impl_dtype=torch.int8, quant_min=None, quant_max=None)))\n",
       "          (up_proj): Linear(in_features=2048, out_features=8192, weight=LinearActivationQuantizedTensor(activation=<function _int8_symm_per_token_reduced_range_quant at 0x0000013CB86062A0>, weight=AffineQuantizedTensor(shape=torch.Size([8192, 2048]), block_size=(1, 2048), device=cpu, _layout=PlainLayout(), tensor_impl_dtype=torch.int8, quant_min=None, quant_max=None)))\n",
       "          (down_proj): Linear(in_features=8192, out_features=2048, weight=LinearActivationQuantizedTensor(activation=<function _int8_symm_per_token_reduced_range_quant at 0x0000013CB86062A0>, weight=AffineQuantizedTensor(shape=torch.Size([2048, 8192]), block_size=(1, 8192), device=cpu, _layout=PlainLayout(), tensor_impl_dtype=torch.int8, quant_min=None, quant_max=None)))\n",
       "          (act_fn): SiLUActivation()\n",
       "        )\n",
       "        (input_layernorm): LlamaRMSNorm((2048,), eps=1e-05)\n",
       "        (post_attention_layernorm): LlamaRMSNorm((2048,), eps=1e-05)\n",
       "      )\n",
       "    )\n",
       "    (norm): LlamaRMSNorm((2048,), eps=1e-05)\n",
       "    (rotary_emb): LlamaRotaryEmbedding()\n",
       "  )\n",
       "  (lm_head): Linear(in_features=2048, out_features=128256, weight=LinearActivationQuantizedTensor(activation=<function _int8_symm_per_token_reduced_range_quant at 0x0000013CB86062A0>, weight=AffineQuantizedTensor(shape=torch.Size([128256, 2048]), block_size=(1, 2048), device=cpu, _layout=PlainLayout(), tensor_impl_dtype=torch.int8, quant_min=None, quant_max=None)))\n",
       ")"
      ]
     },
     "execution_count": 7,
     "metadata": {},
     "output_type": "execute_result"
    }
   ],
   "source": [
    "model"
   ]
  },
  {
   "cell_type": "code",
   "execution_count": 10,
   "metadata": {},
   "outputs": [
    {
     "name": "stderr",
     "output_type": "stream",
     "text": [
      "Setting `pad_token_id` to `eos_token_id`:128001 for open-end generation.\n"
     ]
    },
    {
     "name": "stdout",
     "output_type": "stream",
     "text": [
      "Quantized model output: The secret of life is to live it to the fullest, and to make it so that it seems like a dream.\n",
      "The secret of life is to live it to the fullest, and to make it so that it seems like a dream.\n",
      "It's not what you have, or who you are, it's what you do with what you have, or who you are.\n",
      "It's not what you have, or who you are, it's what you do with what you have, or who you are.\n",
      "The secret of\n",
      "\n",
      "Time taken for baseline model: 16.525156497955322\n"
     ]
    }
   ],
   "source": [
    "text = \"The secret of life is\"\n",
    "\n",
    "text = [text]*20\n",
    "inputs = tokenizer(text, return_tensors='pt')\n",
    "\n",
    "tic = time.time()\n",
    "\n",
    "with torch.no_grad():\n",
    "    output = model.generate(**inputs, max_new_tokens=100)\n",
    "\n",
    "elapsed_time = time.time() - tic\n",
    "\n",
    "output_decoded = tokenizer.decode(output[0], skip_special_tokens=True)\n",
    "\n",
    "print(\"Quantized model output:\", output_decoded)\n",
    "print(\"\\nTime taken for baseline model:\", elapsed_time)"
   ]
  },
  {
   "cell_type": "markdown",
   "metadata": {},
   "source": [
    "Hugging Face provides several built-in quantization options, each suited to different model and deployment needs:\n",
    "https://huggingface.co/docs/transformers/v4.46.0/quantization/overview\n",
    "\n",
    "For this lab, we will use `Quanto`."
   ]
  },
  {
   "cell_type": "code",
   "execution_count": 4,
   "metadata": {},
   "outputs": [
    {
     "name": "stdout",
     "output_type": "stream",
     "text": [
      "Model size after quantization: 2025.673283 MB\n"
     ]
    }
   ],
   "source": [
    "from transformers import AutoModelForCausalLM, AutoTokenizer, QuantoConfig\n",
    "import torch\n",
    "import os\n",
    "import time \n",
    "    \n",
    "model_id = \"meta-llama/Llama-3.2-1B\"\n",
    "\n",
    "# Quantize to 8-bit weights\n",
    "quant = QuantoConfig(weights=\"int8\")\n",
    "\n",
    "tokenizer = AutoTokenizer.from_pretrained(model_id, use_fast=True)\n",
    "model = AutoModelForCausalLM.from_pretrained(\n",
    "    model_id,\n",
    "    quantization_config=quant,\n",
    "    device_map=\"cpu\",      \n",
    ")\n",
    "\n",
    "print(f\"Model size after quantization: {get_model_size(model)} MB\")"
   ]
  },
  {
   "cell_type": "code",
   "execution_count": 5,
   "metadata": {},
   "outputs": [
    {
     "data": {
      "text/plain": [
       "<class 'optimum.quanto.tensor.weights.qbytes.WeightQBytesTensor'>(tensor([[-49,  19,  59,  ..., -19, -24,  40],\n",
       "        [ 13,  69,  73,  ..., -39, -17,   7],\n",
       "        [ 17,  13,  34,  ..., -40, -36, -22],\n",
       "        ...,\n",
       "        [ 16,  15,  43,  ..., -41, -17, -18],\n",
       "        [ 36, -48,  54,  ..., -18, -39, -22],\n",
       "        [-14, -27, -11,  ...,  32,   7,   0]], dtype=torch.int8), scale=tensor([[0.0004],\n",
       "        [0.0009],\n",
       "        [0.0011],\n",
       "        ...,\n",
       "        [0.0019],\n",
       "        [0.0007],\n",
       "        [0.0019]]), dtype=torch.float32)"
      ]
     },
     "execution_count": 5,
     "metadata": {},
     "output_type": "execute_result"
    }
   ],
   "source": [
    "model.model.layers[0].self_attn.q_proj.weight"
   ]
  },
  {
   "cell_type": "code",
   "execution_count": 7,
   "metadata": {},
   "outputs": [
    {
     "name": "stderr",
     "output_type": "stream",
     "text": [
      "Setting `pad_token_id` to `eos_token_id`:128001 for open-end generation.\n"
     ]
    },
    {
     "name": "stdout",
     "output_type": "stream",
     "text": [
      "\n",
      "quantized model output: The secret of life is to enjoy every moment of every day.\n",
      "The secret of life is to enjoy every moment of every day.\n",
      "The secret of life is to enjoy every moment of every day.\n",
      "The secret of life is to enjoy every moment of every day.\n",
      "The secret of life is to enjoy every moment of every day.\n",
      "The secret of life is to enjoy every moment of every day.\n",
      "The secret of life is to enjoy every moment of every day.\n",
      "The secret of life is to enjoy every moment of every day.\n",
      "The\n",
      "\n",
      "Time taken for baseline model: 67.56964612007141\n"
     ]
    }
   ],
   "source": [
    "text = \"The secret of life is\"\n",
    "inputs = tokenizer([text]*20, return_tensors=\"pt\")\n",
    "\n",
    "tic = time.time()\n",
    "\n",
    "with torch.no_grad():\n",
    "    baseline_output = model.generate(**inputs, max_new_tokens=100)\n",
    "\n",
    "elapsed_time = time.time() - tic\n",
    "\n",
    "output_decoded = tokenizer.decode(baseline_output[0], skip_special_tokens=True)\n",
    "\n",
    "print(\"\\nquantized model output:\", output_decoded)\n",
    "print(\"\\nTime taken for baseline model:\", elapsed_time)"
   ]
  }
 ],
 "metadata": {
  "kernelspec": {
   "display_name": "Python 3",
   "language": "python",
   "name": "python3"
  },
  "language_info": {
   "codemirror_mode": {
    "name": "ipython",
    "version": 3
   },
   "file_extension": ".py",
   "mimetype": "text/x-python",
   "name": "python",
   "nbconvert_exporter": "python",
   "pygments_lexer": "ipython3",
   "version": "3.12.0"
  }
 },
 "nbformat": 4,
 "nbformat_minor": 2
}
