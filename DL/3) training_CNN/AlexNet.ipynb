{
  "cells": [
    {
      "cell_type": "markdown",
      "metadata": {
        "id": "c9QcGnGPdX2C"
      },
      "source": [
        "\n",
        "**Install requirements**"
      ]
    },
    {
      "cell_type": "code",
      "execution_count": null,
      "metadata": {
        "id": "k9O3aM3Tb28q"
      },
      "outputs": [],
      "source": [
        "!pip3 install 'torch==1.3.1'\n",
        "!pip3 install 'torchvision==0.5.0'\n",
        "!pip3 install 'Pillow-SIMD'\n",
        "!pip3 install 'tqdm'"
      ]
    },
    {
      "cell_type": "markdown",
      "metadata": {
        "id": "fo942LMOdlh4"
      },
      "source": [
        "**Import libraries**"
      ]
    },
    {
      "cell_type": "code",
      "execution_count": 1,
      "metadata": {
        "id": "DokFOdD1dJEl"
      },
      "outputs": [],
      "source": [
        "import os\n",
        "import logging\n",
        "\n",
        "import torch\n",
        "import torch.nn as nn\n",
        "import torch.optim as optim\n",
        "from torch.utils.data import Subset, DataLoader\n",
        "from torch.backends import cudnn\n",
        "\n",
        "import torchvision\n",
        "from torchvision import transforms\n",
        "from torchvision.models import alexnet\n",
        "\n",
        "from PIL import Image\n",
        "from tqdm import tqdm"
      ]
    },
    {
      "cell_type": "markdown",
      "metadata": {
        "id": "OIDLJuIXK_vh"
      },
      "source": [
        "**Set Arguments**"
      ]
    },
    {
      "cell_type": "code",
      "execution_count": null,
      "metadata": {
        "id": "d5PkYfqfK_SA"
      },
      "outputs": [],
      "source": [
        "DEVICE = 'cuda' # 'cuda' or 'cpu'\n",
        "\n",
        "NUM_CLASSES = 101 # 101 + 1: There is am extra Background class that should be removed\n",
        "\n",
        "BATCH_SIZE = 256     # Higher batch sizes allows for larger learning rates. An empirical heuristic suggests that, when changing\n",
        "                     # the batch size, learning rate should change by the same factor to have comparable results\n",
        "\n",
        "LR = 1e-3            # The initial Learning Rate\n",
        "MOMENTUM = 0.9       # Hyperparameter for SGD, keep this at 0.9 when using SGD\n",
        "WEIGHT_DECAY = 5e-5  # Regularization, you can keep this at the default\n",
        "\n",
        "NUM_EPOCHS = 30      # Total number of training epochs (iterations over dataset)\n",
        "STEP_SIZE = 20       # How many epochs before decreasing learning rate (if using a step-down policy)\n",
        "GAMMA = 0.1          # Multiplicative factor for learning rate step-down\n",
        "\n",
        "LOG_FREQUENCY = 10"
      ]
    },
    {
      "cell_type": "markdown",
      "metadata": {
        "id": "9gwii0TBHvzh"
      },
      "source": [
        "**Define Data Preprocessing**"
      ]
    },
    {
      "cell_type": "code",
      "execution_count": 3,
      "metadata": {
        "id": "QUDdw4j2H0Mc"
      },
      "outputs": [],
      "source": [
        "# Define transforms for training phase\n",
        "train_transform = transforms.Compose([\n",
        "    transforms.Resize(256),\n",
        "    transforms.CenterCrop(224), #AlexNet takes 224x224 input image\n",
        "    transforms.ToTensor(), #scales values to [0-1]\n",
        "    transforms.Normalize((0.5, 0.5, 0.5), (0.5, 0.5, 0.5))\n",
        "    ])\n",
        "\n",
        "eval_transform = transforms.Compose([\n",
        "    transforms.Resize(256),\n",
        "    transforms.CenterCrop(224), #AlexNet takes 224x224 input image\n",
        "    transforms.ToTensor(), #scales values to [0-1]\n",
        "    transforms.Normalize((0.5, 0.5, 0.5), (0.5, 0.5, 0.5))\n",
        "])"
      ]
    },
    {
      "cell_type": "markdown",
      "metadata": {
        "id": "2qYIHPzYLY7i"
      },
      "source": [
        "**Prepare Dataset**"
      ]
    },
    {
      "cell_type": "code",
      "execution_count": null,
      "metadata": {
        "colab": {
          "base_uri": "https://localhost:8080/",
          "height": 375
        },
        "id": "QfVq_uDHLbsR",
        "outputId": "af2136aa-db20-43e9-8d77-502a323b9484"
      },
      "outputs": [
        {
          "name": "stdout",
          "output_type": "stream",
          "text": [
            "Train Dataset: 4876\n",
            "Valid Dataset: 1220\n",
            "Test Dataset: 3049\n"
          ]
        }
      ],
      "source": [
        "# Clone github repository with data\n",
        "if not os.path.isdir('./Caltech101'):\n",
        "  !git clone https://github.com/MachineLearning2020/Homework2-Caltech101.git\n",
        "  !mv 'Homework2-Caltech101' 'Caltech101'\n",
        "\n",
        "DATA_DIR = 'Caltech101/101_ObjectCategories'\n",
        "from Caltech101.caltech_dataset import Caltech #(new dataset with __init__, __len__, __get_item__ not needed) \n",
        "import sklearn.model_selection as ms\n",
        "# Prepare Pytorch train/test Datasets\n",
        "train_dataset = Caltech(DATA_DIR, split='train',  transform=train_transform)\n",
        "test_dataset = Caltech(DATA_DIR, split='test', transform=eval_transform)\n",
        "\n",
        "train_indexes, val_indexes = ms.train_test_split(list(range(train_dataset.__len__())), train_size=0.5)  # split the indices for your train and validation (on train set) split\n",
        "#cross-validation is too much expensive, so we set a validation set at the beginning\n",
        "\n",
        "val_dataset = Subset(train_dataset, val_indexes)\n",
        "train_dataset = Subset(train_dataset, train_indexes)\n",
        "\n",
        "# Check dataset sizes\n",
        "print('Train Dataset: {}'.format(len(train_dataset)))\n",
        "print('Valid Dataset: {}'.format(len(val_dataset)))\n",
        "print('Test Dataset: {}'.format(len(test_dataset)))"
      ]
    },
    {
      "cell_type": "markdown",
      "metadata": {
        "id": "FYEDQ7Z21ldN"
      },
      "source": [
        "**Prepare Dataloaders**"
      ]
    },
    {
      "cell_type": "code",
      "execution_count": 15,
      "metadata": {
        "id": "VriRw8SI1nle"
      },
      "outputs": [],
      "source": [
        "# Dataloaders iterate over pytorch datasets and transparently provide useful functions (e.g. parallelization and shuffling)\n",
        "train_dataloader = DataLoader(train_dataset, batch_size=BATCH_SIZE, shuffle=True, num_workers=4, drop_last=True)\n",
        "val_dataloader = DataLoader(val_dataset, batch_size=BATCH_SIZE, shuffle=False, num_workers=4)\n",
        "\n",
        "test_dataloader = DataLoader(test_dataset, batch_size=BATCH_SIZE, shuffle=False, num_workers=4)"
      ]
    },
    {
      "cell_type": "markdown",
      "metadata": {
        "id": "gbZ1t5Qs2z4j"
      },
      "source": [
        "**Prepare Network**"
      ]
    },
    {
      "cell_type": "code",
      "execution_count": 16,
      "metadata": {
        "id": "exHUjtXa22DN"
      },
      "outputs": [],
      "source": [
        "net = alexnet() # Loading AlexNet model\n",
        "\n",
        "# AlexNet has 1000 output neurons, corresponding to the 1000 ImageNet's classes\n",
        "# We need 101 outputs for Caltech-101\n",
        "net.classifier[6] = nn.Linear(4096, NUM_CLASSES) # nn.Linear in pytorch is a fully connected layer\n",
        "                                                 # The convolutional layer is nn.Conv2d\n",
        "\n",
        "#we use mode.classifier[6] because AlexNet has 12 layers, first block is model.features (conv layers) and the second is model.classifier (linear layers)\n",
        "\n",
        "# We just changed the last layer of AlexNet with a new fully connected layer with 101 outputs\n",
        "# It is strongly suggested to study torchvision.models.alexnet source code"
      ]
    },
    {
      "cell_type": "markdown",
      "metadata": {
        "id": "KEyL3H_R4qCf"
      },
      "source": [
        "**Prepare Training**"
      ]
    },
    {
      "cell_type": "code",
      "execution_count": 17,
      "metadata": {
        "id": "9sjq00G94tSc"
      },
      "outputs": [],
      "source": [
        "# Define loss function\n",
        "criterion = nn.CrossEntropyLoss() # for classification, we use Cross Entropy\n",
        "\n",
        "# Choose parameters to optimize\n",
        "# To access a different set of parameters, you have to access submodules of AlexNet\n",
        "# (nn.Module objects, like AlexNet, implement the Composite Pattern)\n",
        "# e.g.: parameters of the fully connected layers: net.classifier.parameters()\n",
        "# e.g.: parameters of the convolutional layers: net.features.parameters()\n",
        "parameters_to_optimize = net.parameters() # In this case we optimize over all the parameters of AlexNet\n",
        "\n",
        "# Define optimizer\n",
        "# An optimizer updates the weights based on loss\n",
        "# We use SGD with momentum\n",
        "optimizer = optim.SGD(parameters_to_optimize, lr=LR, momentum=MOMENTUM, weight_decay=WEIGHT_DECAY) #weight decay is L2 optimization \n",
        "\n",
        "# Define scheduler\n",
        "# A scheduler dynamically changes learning rate\n",
        "# The most common schedule is the step(-down), which multiplies learning rate by gamma every STEP_SIZE epochs\n",
        "scheduler = optim.lr_scheduler.StepLR(optimizer, step_size=STEP_SIZE, gamma=GAMMA) #every step epochs (step_size) we decrease LR by gamma"
      ]
    },
    {
      "cell_type": "markdown",
      "metadata": {
        "id": "AxYUli9d9uYQ"
      },
      "source": [
        "**Train**"
      ]
    },
    {
      "cell_type": "code",
      "execution_count": 18,
      "metadata": {
        "id": "ZcoQ5fD49yT_"
      },
      "outputs": [
        {
          "name": "stderr",
          "output_type": "stream",
          "text": [
            "c:\\Users\\Utente\\AppData\\Local\\Programs\\Python\\Python312\\Lib\\site-packages\\torch\\optim\\lr_scheduler.py:536: UserWarning: To get the last learning rate computed by the scheduler, please use `get_last_lr()`.\n",
            "  _warn_get_lr_called_within_step(self)\n"
          ]
        },
        {
          "name": "stdout",
          "output_type": "stream",
          "text": [
            "Starting epoch 1/30, LR = [0.001]\n",
            "Step 0, Loss 4.6226911544799805\n",
            "Step 10, Loss 4.621809959411621\n",
            "Starting epoch 2/30, LR = [0.001]\n",
            "Step 20, Loss 4.621020317077637\n",
            "Step 30, Loss 4.617336750030518\n",
            "Starting epoch 3/30, LR = [0.001]\n",
            "Step 40, Loss 4.613525390625\n",
            "Step 50, Loss 4.611845970153809\n",
            "Starting epoch 4/30, LR = [0.001]\n",
            "Step 60, Loss 4.611144065856934\n",
            "Step 70, Loss 4.604104995727539\n",
            "Starting epoch 5/30, LR = [0.001]\n",
            "Step 80, Loss 4.606985092163086\n",
            "Step 90, Loss 4.60089635848999\n",
            "Starting epoch 6/30, LR = [0.001]\n",
            "Step 100, Loss 4.5987935066223145\n",
            "Step 110, Loss 4.596330165863037\n",
            "Starting epoch 7/30, LR = [0.001]\n",
            "Step 120, Loss 4.5904541015625\n",
            "Step 130, Loss 4.592741966247559\n",
            "Starting epoch 8/30, LR = [0.001]\n",
            "Step 140, Loss 4.584769248962402\n",
            "Step 150, Loss 4.574005603790283\n",
            "Starting epoch 9/30, LR = [0.001]\n",
            "Step 160, Loss 4.583614349365234\n",
            "Step 170, Loss 4.567535400390625\n",
            "Starting epoch 10/30, LR = [0.001]\n",
            "Step 180, Loss 4.567145824432373\n",
            "Starting epoch 11/30, LR = [0.001]\n",
            "Step 190, Loss 4.547853946685791\n",
            "Step 200, Loss 4.557340621948242\n",
            "Starting epoch 12/30, LR = [0.001]\n",
            "Step 210, Loss 4.550426483154297\n",
            "Step 220, Loss 4.534002780914307\n",
            "Starting epoch 13/30, LR = [0.001]\n",
            "Step 230, Loss 4.518794059753418\n",
            "Step 240, Loss 4.472934722900391\n",
            "Starting epoch 14/30, LR = [0.001]\n",
            "Step 250, Loss 4.406479835510254\n",
            "Step 260, Loss 4.305898189544678\n",
            "Starting epoch 15/30, LR = [0.001]\n",
            "Step 270, Loss 4.133329391479492\n",
            "Step 280, Loss 4.356442451477051\n",
            "Starting epoch 16/30, LR = [0.001]\n",
            "Step 290, Loss 4.201228618621826\n",
            "Step 300, Loss 4.208231449127197\n",
            "Starting epoch 17/30, LR = [0.001]\n",
            "Step 310, Loss 4.245881080627441\n",
            "Step 320, Loss 4.202614784240723\n",
            "Starting epoch 18/30, LR = [0.001]\n",
            "Step 330, Loss 4.1350178718566895\n",
            "Step 340, Loss 4.16498327255249\n",
            "Starting epoch 19/30, LR = [0.001]\n",
            "Step 350, Loss 4.159281253814697\n",
            "Step 360, Loss 4.190392017364502\n",
            "Starting epoch 20/30, LR = [0.001]\n",
            "Step 370, Loss 4.104593753814697\n",
            "Starting epoch 21/30, LR = [1e-05]\n",
            "Step 380, Loss 4.113560676574707\n",
            "Step 390, Loss 4.136080741882324\n",
            "Starting epoch 22/30, LR = [0.0001]\n",
            "Step 400, Loss 4.151883125305176\n",
            "Step 410, Loss 4.180495738983154\n",
            "Starting epoch 23/30, LR = [0.0001]\n",
            "Step 420, Loss 4.171950340270996\n",
            "Step 430, Loss 4.2484450340271\n",
            "Starting epoch 24/30, LR = [0.0001]\n",
            "Step 440, Loss 4.238958358764648\n",
            "Step 450, Loss 4.288583755493164\n",
            "Starting epoch 25/30, LR = [0.0001]\n",
            "Step 460, Loss 4.123969554901123\n",
            "Step 470, Loss 4.108282089233398\n",
            "Starting epoch 26/30, LR = [0.0001]\n",
            "Step 480, Loss 4.113269329071045\n",
            "Step 490, Loss 4.349055767059326\n",
            "Starting epoch 27/30, LR = [0.0001]\n",
            "Step 500, Loss 4.199052333831787\n",
            "Step 510, Loss 4.220171928405762\n",
            "Starting epoch 28/30, LR = [0.0001]\n",
            "Step 520, Loss 4.1543684005737305\n",
            "Step 530, Loss 4.237946033477783\n",
            "Starting epoch 29/30, LR = [0.0001]\n",
            "Step 540, Loss 4.138530731201172\n",
            "Step 550, Loss 4.062707424163818\n",
            "Starting epoch 30/30, LR = [0.0001]\n",
            "Step 560, Loss 4.1026611328125\n"
          ]
        }
      ],
      "source": [
        "# By default, everything is loaded to cpu\n",
        "net = net.to(DEVICE) # this will bring the network to GPU if DEVICE is cuda\n",
        "\n",
        "cudnn.benchmark # Calling this optimizes runtime\n",
        "\n",
        "current_step = 0\n",
        "# Start iterating over the epochs\n",
        "for epoch in range(NUM_EPOCHS):\n",
        "  print('Starting epoch {}/{}, LR = {}'.format(epoch+1, NUM_EPOCHS, scheduler.get_lr()))\n",
        "\n",
        "\n",
        "  net.train() # Sets module in training mode\n",
        "\n",
        "  # Iterate over the dataset\n",
        "  for images, labels in train_dataloader: #loads batches --> list of tuples (image, label)\n",
        "    # Bring data over the device of choice\n",
        "    images = images.to(DEVICE)\n",
        "    labels = labels.to(DEVICE)\n",
        "\n",
        "    # PyTorch, by default, accumulates gradients after each backward pass\n",
        "    # We need to manually set the gradients to zero before starting a new iteration\n",
        "    optimizer.zero_grad() # Zero-ing the gradients\n",
        "\n",
        "    # Forward pass to the network\n",
        "    outputs = net(images)\n",
        "\n",
        "    # Compute loss based on output and ground truth\n",
        "    loss = criterion(outputs, labels)\n",
        "\n",
        "    # Log loss\n",
        "    if current_step % LOG_FREQUENCY == 0:\n",
        "      print('Step {}, Loss {}'.format(current_step, loss.item()))\n",
        "\n",
        "    # Compute gradients for each layer and update weights\n",
        "    loss.backward()  # backward pass: computes gradients\n",
        "    optimizer.step() # update weights based on accumulated gradients\n",
        "\n",
        "    current_step += 1\n",
        "\n",
        "  # Step the scheduler\n",
        "  scheduler.step() #end of an epoch"
      ]
    },
    {
      "cell_type": "markdown",
      "metadata": {
        "id": "UsHFI-GAJd69"
      },
      "source": [
        "**Validation**"
      ]
    },
    {
      "cell_type": "code",
      "execution_count": 19,
      "metadata": {
        "id": "EO3HV5pqJg1o"
      },
      "outputs": [
        {
          "name": "stdout",
          "output_type": "stream",
          "text": [
            "Accuracy at batch: 0: 0.09\n",
            "Accuracy at batch: 1: 0.22\n",
            "Accuracy at batch: 2: 0.36\n",
            "Accuracy at batch: 3: 0.49\n",
            "Accuracy at batch: 4: 0.76\n",
            "Validation Accuracy: 0.1213114783167839\n"
          ]
        }
      ],
      "source": [
        "net = net.to(DEVICE) # this will bring the network to GPU if DEVICE is cuda\n",
        "net.eval() # Set Network to evaluation mode\n",
        "\n",
        "with torch.no_grad():\n",
        "  running_corrects = 0\n",
        "  for i, (images, labels) in enumerate(val_dataloader):\n",
        "    images = images.to(DEVICE)\n",
        "    labels = labels.to(DEVICE)\n",
        "\n",
        "    # Forward Pass\n",
        "    outputs = net(images)\n",
        "\n",
        "    # Get predictions\n",
        "    _, preds = torch.max(outputs, 1)\n",
        "\n",
        "    # Update Corrects\n",
        "    running_corrects += torch.sum(preds == labels)\n",
        "\n",
        "    print(f'Accuracy at batch: {i}: {(1.0*running_corrects/float(len(outputs))):.2f}')\n",
        "\n",
        "# Calculate Accuracy\n",
        "accuracy = running_corrects / float(len(val_dataset))\n",
        "\n",
        "print('Validation Accuracy: {}'.format(accuracy))"
      ]
    },
    {
      "cell_type": "markdown",
      "metadata": {
        "id": "jxekmR745ySe"
      },
      "source": [
        "**Test**"
      ]
    },
    {
      "cell_type": "code",
      "execution_count": 20,
      "metadata": {
        "id": "fSHcUqLB5yWO"
      },
      "outputs": [
        {
          "name": "stdout",
          "output_type": "stream",
          "text": [
            "Accuracy at batch: 0: 0.23\n",
            "Accuracy at batch: 1: 0.26\n",
            "Accuracy at batch: 2: 0.26\n",
            "Accuracy at batch: 3: 0.26\n",
            "Accuracy at batch: 4: 0.26\n",
            "Accuracy at batch: 5: 0.26\n",
            "Accuracy at batch: 6: 0.26\n",
            "Accuracy at batch: 7: 0.26\n",
            "Accuracy at batch: 8: 1.10\n",
            "Accuracy at batch: 9: 1.30\n",
            "Accuracy at batch: 10: 1.30\n",
            "Accuracy at batch: 11: 1.42\n",
            "Test Accuracy: 0.10888816005247622\n"
          ]
        }
      ],
      "source": [
        "net = net.to(DEVICE) # this will bring the network to GPU if DEVICE is cuda\n",
        "net.eval() # Set Network to evaluation mode\n",
        "\n",
        "with torch.no_grad():\n",
        "  running_corrects = 0\n",
        "  for i, (images, labels) in enumerate(test_dataloader):\n",
        "    images = images.to(DEVICE)\n",
        "    labels = labels.to(DEVICE)\n",
        "\n",
        "    # Forward Pass\n",
        "    outputs = net(images)\n",
        "\n",
        "    # Get predictions\n",
        "    _, preds = torch.max(outputs.data, 1)\n",
        "\n",
        "    # Update Corrects\n",
        "    running_corrects += torch.sum(preds == labels.data).data.item()\n",
        "\n",
        "    print(f'Accuracy at batch: {i}: {(1.0*running_corrects/float(len(outputs))):.2f}')\n",
        "\n",
        "# Calculate Accuracy\n",
        "accuracy = running_corrects / float(len(test_dataset))\n",
        "\n",
        "print('Test Accuracy: {}'.format(accuracy))"
      ]
    }
  ],
  "metadata": {
    "accelerator": "GPU",
    "colab": {
      "provenance": [],
      "toc_visible": true
    },
    "kernelspec": {
      "display_name": "Python 3",
      "name": "python3"
    },
    "language_info": {
      "codemirror_mode": {
        "name": "ipython",
        "version": 3
      },
      "file_extension": ".py",
      "mimetype": "text/x-python",
      "name": "python",
      "nbconvert_exporter": "python",
      "pygments_lexer": "ipython3",
      "version": "3.12.0"
    }
  },
  "nbformat": 4,
  "nbformat_minor": 0
}
