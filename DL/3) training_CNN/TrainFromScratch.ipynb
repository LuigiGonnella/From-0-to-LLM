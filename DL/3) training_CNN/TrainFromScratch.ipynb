{
  "cells": [
    {
      "cell_type": "markdown",
      "metadata": {
        "id": "c9QcGnGPdX2C"
      },
      "source": [
        "\n",
        "**Install requirements**"
      ]
    },
    {
      "cell_type": "code",
      "execution_count": null,
      "metadata": {
        "id": "k9O3aM3Tb28q"
      },
      "outputs": [],
      "source": [
        "!pip3 install 'torch==1.3.1'\n",
        "!pip3 install 'torchvision==0.5.0'\n",
        "!pip3 install 'Pillow-SIMD'\n",
        "!pip3 install 'tqdm'"
      ]
    },
    {
      "cell_type": "markdown",
      "metadata": {
        "id": "fo942LMOdlh4"
      },
      "source": [
        "**Import libraries**"
      ]
    },
    {
      "cell_type": "code",
      "execution_count": 1,
      "metadata": {
        "id": "DokFOdD1dJEl"
      },
      "outputs": [],
      "source": [
        "import os\n",
        "import logging\n",
        "\n",
        "import torch\n",
        "import torch.nn as nn\n",
        "import torch.optim as optim\n",
        "from torch.utils.data import Subset, DataLoader\n",
        "from torch.backends import cudnn\n",
        "\n",
        "import torchvision\n",
        "from torchvision import transforms\n",
        "\n",
        "from PIL import Image\n",
        "from tqdm import tqdm"
      ]
    },
    {
      "cell_type": "markdown",
      "metadata": {
        "id": "OIDLJuIXK_vh"
      },
      "source": [
        "**Set Arguments**"
      ]
    },
    {
      "cell_type": "code",
      "execution_count": null,
      "metadata": {
        "id": "d5PkYfqfK_SA"
      },
      "outputs": [],
      "source": [
        "DEVICE = 'cuda' # 'cuda' or 'cpu'\n",
        "\n",
        "NUM_CLASSES = 102 # 101 + 1: There is am extra Background class that should be removed\n",
        "\n",
        "BATCH_SIZE = 256     # Higher batch sizes allows for larger learning rates. An empirical heuristic suggests that, when changing\n",
        "                     # the batch size, learning rate should change by the same factor to have comparable results\n",
        "\n",
        "LR = 1e-2            # we can try different initial Learning Rate\n",
        "MOMENTUM = 0.9       # Hyperparameter for SGD, keep this at 0.9 when using SGD\n",
        "WEIGHT_DECAY = 5e-5  # Regularization, you can keep this at the default\n",
        "\n",
        "NUM_EPOCHS = 10      # Total number of training epochs (iterations over dataset)\n",
        "STEP_SIZE = 5       # How many epochs before decreasing learning rate (if using a step-down policy)\n",
        "GAMMA = 0.1          # Multiplicative factor for learning rate step-down\n",
        "\n",
        "LOG_FREQUENCY = 10"
      ]
    },
    {
      "cell_type": "markdown",
      "metadata": {
        "id": "9gwii0TBHvzh"
      },
      "source": [
        "**Define Data Preprocessing and Data augmentation**"
      ]
    },
    {
      "cell_type": "code",
      "execution_count": 3,
      "metadata": {
        "id": "QUDdw4j2H0Mc"
      },
      "outputs": [],
      "source": [
        "# Define transforms for training phase\n",
        "train_transform = transforms.Compose([\n",
        "    transforms.Resize(256),\n",
        "    transforms.CenterCrop(224), #AlexNet takes 224x224 input image\n",
        "    transforms.RandomHorizontalFlip(),\n",
        "    transforms.ColorJitter(),\n",
        "    transforms.ToTensor(), #scales values to [0-1]\n",
        "    transforms.Normalize((0.5, 0.5, 0.5), (0.5, 0.5, 0.5))\n",
        "    ])\n",
        "\n",
        "eval_transform = transforms.Compose([\n",
        "    transforms.Resize(256),\n",
        "    transforms.CenterCrop(224), #AlexNet takes 224x224 input image\n",
        "    transforms.ToTensor(), #scales values to [0-1]\n",
        "    transforms.Normalize((0.5, 0.5, 0.5), (0.5, 0.5, 0.5))\n",
        "])"
      ]
    },
    {
      "cell_type": "markdown",
      "metadata": {
        "id": "2qYIHPzYLY7i"
      },
      "source": [
        "**Prepare Dataset**"
      ]
    },
    {
      "cell_type": "code",
      "execution_count": 4,
      "metadata": {
        "colab": {
          "base_uri": "https://localhost:8080/",
          "height": 375
        },
        "id": "QfVq_uDHLbsR",
        "outputId": "af2136aa-db20-43e9-8d77-502a323b9484"
      },
      "outputs": [
        {
          "name": "stdout",
          "output_type": "stream",
          "text": [
            "Train Dataset: 3048\n",
            "Valid Dataset: 3048\n",
            "Test Dataset: 3049\n"
          ]
        }
      ],
      "source": [
        "# Clone github repository with data\n",
        "if not os.path.isdir('./Caltech101'):\n",
        "  !git clone https://github.com/MachineLearning2020/Homework2-Caltech101.git\n",
        "  !mv 'Homework2-Caltech101' 'Caltech101'\n",
        "\n",
        "DATA_DIR = 'Caltech101/101_ObjectCategories'\n",
        "from Caltech101.caltech_dataset import Caltech #(new dataset with __init__, __len__, __get_item__ not needed) \n",
        "import sklearn.model_selection as ms\n",
        "# Prepare Pytorch train/test Datasets\n",
        "train_dataset = Caltech(DATA_DIR, split='train',  transform=train_transform)\n",
        "test_dataset = Caltech(DATA_DIR, split='test', transform=eval_transform)\n",
        "\n",
        "train_indexes, val_indexes = ms.train_test_split(list(range(train_dataset.__len__())), train_size=0.5)  # split the indices for your train and validation (on train set) split\n",
        "#cross-validation is too much expensive, so we set a validation set at the beginning\n",
        "\n",
        "val_dataset = Subset(train_dataset, val_indexes)\n",
        "train_dataset = Subset(train_dataset, train_indexes)\n",
        "\n",
        "# Check dataset sizes\n",
        "print('Train Dataset: {}'.format(len(train_dataset)))\n",
        "print('Valid Dataset: {}'.format(len(val_dataset)))\n",
        "print('Test Dataset: {}'.format(len(test_dataset)))"
      ]
    },
    {
      "cell_type": "markdown",
      "metadata": {
        "id": "FYEDQ7Z21ldN"
      },
      "source": [
        "**Prepare Dataloaders**"
      ]
    },
    {
      "cell_type": "code",
      "execution_count": 5,
      "metadata": {
        "id": "VriRw8SI1nle"
      },
      "outputs": [],
      "source": [
        "# Dataloaders iterate over pytorch datasets and transparently provide useful functions (e.g. parallelization and shuffling)\n",
        "train_dataloader = DataLoader(train_dataset, batch_size=BATCH_SIZE, shuffle=True, num_workers=4, drop_last=True)\n",
        "val_dataloader = DataLoader(val_dataset, batch_size=BATCH_SIZE, shuffle=False, num_workers=4)\n",
        "\n",
        "test_dataloader = DataLoader(test_dataset, batch_size=BATCH_SIZE, shuffle=False, num_workers=4)\n",
        "\n"
      ]
    },
    {
      "cell_type": "markdown",
      "metadata": {},
      "source": [
        "**Create Network**"
      ]
    },
    {
      "cell_type": "code",
      "execution_count": 14,
      "metadata": {},
      "outputs": [],
      "source": [
        "import torch.nn as nn\n",
        "import torch.nn.functional as F\n",
        "\n",
        "class NN(nn.Module): \n",
        "    def __init__(self):\n",
        "        super().__init__()\n",
        "        self.conv1 = nn.Conv2d(3, 6, 21, padding=10)\n",
        "        self.pool1 = nn.MaxPool2d(3, padding=1, stride=1)\n",
        "        self.conv2 = nn.Conv2d(6, 12, 21, padding=10)\n",
        "        self.pool2 = nn.MaxPool2d(5, padding=2, stride = 1)\n",
        "        self.conv3 = nn.Conv2d(12, 36, 21, padding=10)\n",
        "        self.pool3 = nn.MaxPool2d(2, stride=2)\n",
        "        self.conv4 = nn.Conv2d(12, 12, 21, padding=10)\n",
        "        self.fc1 = nn.Linear(36*56*56, 1024)\n",
        "        self.fc2 = nn.Linear(1024, 500)\n",
        "        self.fc3 = nn.Linear(500, 200)\n",
        "        self.fc4 = nn.Linear(200, NUM_CLASSES)\n",
        "\n",
        "    def forward(self, inputs):\n",
        "\n",
        "        x = self.conv1(inputs)\n",
        "\n",
        "        x = self.pool1(F.relu(x))\n",
        "\n",
        "        x = self.conv2(x)\n",
        "\n",
        "        x = self.pool2(F.relu(x))\n",
        "\n",
        "        x = self.conv4(x)\n",
        "\n",
        "        x = self.pool3(F.relu(x))\n",
        "\n",
        "        x = self.conv3(x)\n",
        "\n",
        "        x = self.pool3(F.relu(x))\n",
        "\n",
        "        x = torch.flatten(x, 1)\n",
        "\n",
        "        x = F.relu(self.fc1(x))\n",
        "        x = F.relu(self.fc2(x))\n",
        "        x = F.relu(self.fc3(x))\n",
        "        x = self.fc4(x)\n",
        "\n",
        "        return x\n",
        "\n",
        "    \n"
      ]
    },
    {
      "cell_type": "markdown",
      "metadata": {
        "id": "gbZ1t5Qs2z4j"
      },
      "source": [
        "**Prepare Network**"
      ]
    },
    {
      "cell_type": "code",
      "execution_count": 15,
      "metadata": {
        "id": "exHUjtXa22DN"
      },
      "outputs": [],
      "source": [
        "net = NN() # Loading AlexNet model\n",
        "\n",
        "# AlexNet has 1000 output neurons, corresponding to the 1000 ImageNet's classes\n",
        "# We need 101 outputs for Caltech-101\n",
        "#net.classifier[6] = nn.Linear(4096, NUM_CLASSES) # nn.Linear in pytorch is a fully connected layer\n",
        "                                                 # The convolutional layer is nn.Conv2d\n",
        "\n",
        "#we use mode.classifier[6] because AlexNet has 12 layers, first block is model.features (conv layers) and the second is model.classifier (linear layers)\n",
        "\n",
        "# We just changed the last layer of AlexNet with a new fully connected layer with 101 outputs\n",
        "# It is strongly suggested to study torchvision.models.alexnet source code"
      ]
    },
    {
      "cell_type": "markdown",
      "metadata": {
        "id": "KEyL3H_R4qCf"
      },
      "source": [
        "**Prepare Training**"
      ]
    },
    {
      "cell_type": "code",
      "execution_count": 19,
      "metadata": {
        "id": "9sjq00G94tSc"
      },
      "outputs": [],
      "source": [
        "# Define loss function\n",
        "criterion = nn.CrossEntropyLoss() # for classification, we use Cross Entropy\n",
        "\n",
        "# Choose parameters to optimize\n",
        "# To access a different set of parameters, you have to access submodules of AlexNet\n",
        "# (nn.Module objects, like AlexNet, implement the Composite Pattern)\n",
        "# e.g.: parameters of the fully connected layers: net.classifier.parameters()\n",
        "# Struttura di net.classifier in AlexNet:\n",
        "#classifier = nn.Sequential(\n",
        " #   nn.Dropout(),              # [0] \n",
        " #   nn.Linear(256 * 6 * 6, 4096),  # [1] primo FC layer\n",
        " #   nn.ReLU(inplace=True),     # [2]\n",
        " #   nn.Dropout(),              # [3]\n",
        " #   nn.Linear(4096, 4096),     # [4] secondo FC layer  \n",
        "  #  nn.ReLU(inplace=True),     # [5]\n",
        "   # nn.Linear(4096, 1000)      # [6] ULTIMO layer: 4096 → 1000 classi ImageNet\n",
        "#)\n",
        "# e.g.: parameters of the convolutional layers: net.features.parameters()\n",
        "parameters_to_optimize = net.parameters() # In this case we optimize over all the parameters of AlexNet\n",
        "\n",
        "# Define optimizer\n",
        "# An optimizer updates the weights based on loss\n",
        "# We use SGD with momentum\n",
        "optimizer = optim.Adam(parameters_to_optimize, lr=LR, weight_decay=WEIGHT_DECAY) #weight decay is L2 optimization \n",
        "\n",
        "# Define scheduler\n",
        "# A scheduler dynamically changes learning rate\n",
        "# The most common schedule is the step(-down), which multiplies learning rate by gamma every STEP_SIZE epochs\n",
        "scheduler = optim.lr_scheduler.StepLR(optimizer, step_size=STEP_SIZE, gamma=GAMMA) #every step epochs (step_size) we decrease LR by gamma"
      ]
    },
    {
      "cell_type": "markdown",
      "metadata": {
        "id": "AxYUli9d9uYQ"
      },
      "source": [
        "**Train**"
      ]
    },
    {
      "cell_type": "code",
      "execution_count": 20,
      "metadata": {
        "id": "ZcoQ5fD49yT_"
      },
      "outputs": [
        {
          "name": "stdout",
          "output_type": "stream",
          "text": [
            "Starting epoch 1/10, LR = [0.1]\n",
            "Step 0, Loss 4.210513591766357\n",
            "Step 10, Loss 4.263786792755127\n",
            "Step 20, Loss 4.32383394241333\n",
            "Validation Accuracy for epoch 0: 0.08202099800109863\n",
            "Starting epoch 2/10, LR = [0.1]\n",
            "Step 30, Loss 4.172438144683838\n",
            "Step 40, Loss 4.079556465148926\n",
            "Validation Accuracy for epoch 1: 0.08202099800109863\n",
            "Starting epoch 3/10, LR = [0.1]\n",
            "Step 50, Loss 4.308073997497559\n",
            "Step 60, Loss 4.164220809936523\n",
            "Validation Accuracy for epoch 2: 0.08136482536792755\n",
            "Starting epoch 4/10, LR = [0.1]\n",
            "Step 70, Loss 4.264501094818115\n",
            "Step 80, Loss 4.357766628265381\n",
            "Step 90, Loss 4.19710636138916\n",
            "Validation Accuracy for epoch 3: 0.08136482536792755\n",
            "Starting epoch 5/10, LR = [0.1]\n",
            "Step 100, Loss 4.079309940338135\n",
            "Step 110, Loss 4.19719934463501\n",
            "Validation Accuracy for epoch 4: 0.08136482536792755\n",
            "Starting epoch 6/10, LR = [0.0010000000000000002]\n",
            "Step 120, Loss 4.101828098297119\n",
            "Step 130, Loss 4.041072368621826\n",
            "Validation Accuracy for epoch 5: 0.08136482536792755\n",
            "Starting epoch 7/10, LR = [0.010000000000000002]\n",
            "Step 140, Loss 4.267111778259277\n",
            "Step 150, Loss 4.331460952758789\n",
            "Step 160, Loss 4.063510417938232\n",
            "Validation Accuracy for epoch 6: 0.08136482536792755\n",
            "Starting epoch 8/10, LR = [0.010000000000000002]\n",
            "Step 170, Loss 4.196538925170898\n",
            "Step 180, Loss 4.191251754760742\n",
            "Validation Accuracy for epoch 7: 0.08136482536792755\n",
            "Starting epoch 9/10, LR = [0.010000000000000002]\n",
            "Step 190, Loss 4.12860631942749\n",
            "Step 200, Loss 4.071232318878174\n",
            "Validation Accuracy for epoch 8: 0.08202099800109863\n",
            "Starting epoch 10/10, LR = [0.010000000000000002]\n",
            "Step 210, Loss 4.056881427764893\n",
            "Step 220, Loss 4.2974114418029785\n",
            "Validation Accuracy for epoch 9: 0.08136482536792755\n"
          ]
        }
      ],
      "source": [
        "# By default, everything is loaded to cpu\n",
        "net = net.to(DEVICE) # this will bring the network to GPU if DEVICE is cuda\n",
        "\n",
        "cudnn.benchmark # Calling this optimizes runtime\n",
        "\n",
        "current_step = 0\n",
        "train_loss = []\n",
        "val_loss = []\n",
        "# Start iterating over the epochs\n",
        "for epoch in range(NUM_EPOCHS):\n",
        "  print('Starting epoch {}/{}, LR = {}'.format(epoch+1, NUM_EPOCHS, scheduler.get_lr()))\n",
        "\n",
        "  epoch_loss = 0\n",
        "  n_batches = 0\n",
        "  net.train() # Sets module in training mode\n",
        "\n",
        "  # Iterate over the dataset\n",
        "  for images, labels in train_dataloader: #loads batches --> list of tuples (image, label)\n",
        "    # Bring data over the device of choice\n",
        "    images = images.to(DEVICE)\n",
        "    labels = labels.to(DEVICE)\n",
        "    n_batches +=1\n",
        "\n",
        "    # PyTorch, by default, accumulates gradients after each backward pass\n",
        "    # We need to manually set the gradients to zero before starting a new iteration\n",
        "    optimizer.zero_grad() # Zero-ing the gradients\n",
        "\n",
        "    # Forward pass to the network\n",
        "    outputs = net(images) #vettore di logits per ogni immagine nel batch\n",
        "    # DEBUG: Controlla labels e outputs\n",
        "\n",
        "    # Compute loss based on output and ground truth\n",
        "    loss = criterion(outputs, labels) #media loss per immagini nel batch\n",
        "    epoch_loss += loss.item()\n",
        "    \n",
        "    # Log loss\n",
        "    if current_step % LOG_FREQUENCY == 0:\n",
        "      print('Step {}, Loss {}'.format(current_step, loss.item()))\n",
        "\n",
        "    # Compute gradients for each layer and update weights\n",
        "    loss.backward()  # backward pass: computes gradients\n",
        "    optimizer.step() # update weights based on accumulated gradients\n",
        "\n",
        "    current_step += 1\n",
        "\n",
        "  \n",
        "  train_loss.append(epoch_loss/n_batches)\n",
        "  \n",
        "  net.eval()\n",
        "  val_loss_cumul = 0\n",
        "  n_batches_val = 0\n",
        "\n",
        "\n",
        "  with torch.no_grad():\n",
        "    running_corrects = 0\n",
        "    for images, labels in val_dataloader:\n",
        "      images = images.to(DEVICE)\n",
        "      labels = labels.to(DEVICE)\n",
        "      n_batches_val +=1\n",
        "\n",
        "      outputs = net(images)\n",
        "      val_loss_cumul += criterion(outputs, labels).item()\n",
        "\n",
        "      _, preds = torch.max(outputs, 1)\n",
        "      running_corrects += torch.sum(labels == preds)\n",
        "    \n",
        "    val_loss.append(val_loss_cumul/n_batches_val)\n",
        "    \n",
        "    # Calculate Accuracy\n",
        "    accuracy = running_corrects / float(len(val_dataset))\n",
        "\n",
        "    print(f'Validation Accuracy for epoch {epoch}: {accuracy}')\n",
        "\n",
        "\n",
        "  # Step the scheduler\n",
        "  scheduler.step() #end of an epoch"
      ]
    },
    {
      "cell_type": "markdown",
      "metadata": {},
      "source": [
        "**Plots**"
      ]
    },
    {
      "cell_type": "code",
      "execution_count": 25,
      "metadata": {},
      "outputs": [
        {
          "data": {
            "image/png": "[encoded data removed]",
            "text/plain": [
              "<Figure size 640x480 with 1 Axes>"
            ]
          },
          "metadata": {},
          "output_type": "display_data"
        }
      ],
      "source": [
        "import matplotlib.pyplot as plt\n",
        "eps = range(NUM_EPOCHS)\n",
        "\n",
        "fig, ax = plt.subplots(1, 1)\n",
        "\n",
        "ax.plot(eps, train_loss, c='orange', label = 'train_loss')\n",
        "ax.plot(eps, val_loss, c='blue', label = 'val_loss')\n",
        "ax.set_xlabel('Epochs')\n",
        "ax.set_ylabel('Loss')\n",
        "ax.legend()\n",
        "plt.title('Training Loss VS Validation Loss')\n",
        "plt.show()"
      ]
    },
    {
      "cell_type": "markdown",
      "metadata": {
        "id": "jxekmR745ySe"
      },
      "source": [
        "**Test**"
      ]
    },
    {
      "cell_type": "code",
      "execution_count": 24,
      "metadata": {
        "id": "fSHcUqLB5yWO"
      },
      "outputs": [
        {
          "name": "stdout",
          "output_type": "stream",
          "text": [
            "Accuracy at batch: 0: 0.85\n",
            "Accuracy at batch: 1: 1.85\n",
            "Accuracy at batch: 2: 2.08\n",
            "Accuracy at batch: 3: 2.08\n",
            "Accuracy at batch: 4: 2.08\n",
            "Accuracy at batch: 5: 2.08\n",
            "Accuracy at batch: 6: 2.08\n",
            "Accuracy at batch: 7: 2.08\n",
            "Accuracy at batch: 8: 2.08\n",
            "Accuracy at batch: 9: 2.08\n",
            "Accuracy at batch: 10: 2.08\n",
            "Accuracy at batch: 11: 2.08\n",
            "Accuracy at batch: 12: 2.08\n",
            "Accuracy at batch: 13: 2.08\n",
            "Accuracy at batch: 14: 2.08\n",
            "Accuracy at batch: 15: 2.08\n",
            "Accuracy at batch: 16: 2.08\n",
            "Accuracy at batch: 17: 2.08\n",
            "Accuracy at batch: 18: 2.08\n",
            "Accuracy at batch: 19: 2.08\n",
            "Accuracy at batch: 20: 2.08\n",
            "Accuracy at batch: 21: 2.08\n",
            "Accuracy at batch: 22: 2.08\n",
            "Accuracy at batch: 23: 2.53\n",
            "Test Accuracy: 0.08724171859626106\n"
          ]
        }
      ],
      "source": [
        "net = net.to(DEVICE) # this will bring the network to GPU if DEVICE is cuda\n",
        "net.eval() # Set Network to evaluation mode\n",
        "\n",
        "with torch.no_grad():\n",
        "  running_corrects = 0\n",
        "  for i, (images, labels) in enumerate(test_dataloader):\n",
        "    images = images.to(DEVICE)\n",
        "    labels = labels.to(DEVICE)\n",
        "\n",
        "    # Forward Pass\n",
        "    outputs = net(images)\n",
        "\n",
        "    # Get predictions\n",
        "    _, preds = torch.max(outputs.data, 1)\n",
        "\n",
        "    # Update Corrects\n",
        "    running_corrects += torch.sum(preds == labels.data).data.item()\n",
        "\n",
        "    print(f'Accuracy at batch: {i}: {(1.0*running_corrects/float(len(outputs))):.2f}')\n",
        "\n",
        "# Calculate Accuracy\n",
        "accuracy = running_corrects / float(len(test_dataset))\n",
        "\n",
        "print('Test Accuracy: {}'.format(accuracy))"
      ]
    }
  ],
  "metadata": {
    "accelerator": "GPU",
    "colab": {
      "provenance": [],
      "toc_visible": true
    },
    "kernelspec": {
      "display_name": "Python 3",
      "name": "python3"
    },
    "language_info": {
      "codemirror_mode": {
        "name": "ipython",
        "version": 3
      },
      "file_extension": ".py",
      "mimetype": "text/x-python",
      "name": "python",
      "nbconvert_exporter": "python",
      "pygments_lexer": "ipython3",
      "version": "3.12.0"
    }
  },
  "nbformat": 4,
  "nbformat_minor": 0
}
